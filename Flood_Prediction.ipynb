{
  "cells": [
    {
      "cell_type": "markdown",
      "metadata": {
        "id": "bGE0OAZW9jye"
      },
      "source": [
        "# Introduction"
      ]
    },
    {
      "cell_type": "markdown",
      "metadata": {
        "id": "rOpLv0_I9n-y"
      },
      "source": [
        "## 1.1 Overview of the Competition"
      ]
    },
    {
      "cell_type": "markdown",
      "metadata": {
        "id": "izUVfO-5Cldo"
      },
      "source": [
        "The competition is organized by Kaggle, a platform renowned for hosting data science and machine learning challenges. These competitions offer data enthusiasts the opportunity to work with diverse datasets, apply advanced analytical techniques, and improve their skills. This particular competition focuses on predicting flood probabilities using a dataset that contains a sum of Poisson distributions. Participants are required to develop models that can accurately predict the flood probability based on various features provided in the dataset."
      ]
    },
    {
      "cell_type": "markdown",
      "metadata": {
        "id": "Ih5Gt7lu9pi4"
      },
      "source": [
        "## 1.2 Goal and Objectives"
      ]
    },
    {
      "cell_type": "markdown",
      "metadata": {
        "id": "Jq94sq8TCmC6"
      },
      "source": [
        "The primary goal of this competition is to build a robust machine learning model that can accurately predict flood probabilities. The objectives are to explore different modeling techniques, apply effective feature engineering, and use ensemble methods to improve prediction accuracy. Through this competition, participants will enhance their understanding of machine learning algorithms, particularly Gradient Boosting Machines (GBMs), and develop strategies for effective model validation and ensemble learning."
      ]
    },
    {
      "cell_type": "markdown",
      "metadata": {
        "id": "U4ZtNQon9qnf"
      },
      "source": [
        "## 1.3 Evaluation Metric"
      ]
    },
    {
      "cell_type": "markdown",
      "metadata": {
        "id": "sOBvWhLYCnne"
      },
      "source": [
        "The models in this competition are evaluated using the R2 score, which is a statistical measure of how well the regression predictions approximate the real data points. An R2 score of 1 indicates that the regression predictions perfectly fit the data, while a score of 0 indicates that the model does not explain any of the variability of the response data around its mean. The goal is to achieve the highest possible R2 score on both the public and private leaderboards, demonstrating the model's predictive accuracy and generalizability."
      ]
    },
    {
      "cell_type": "code",
      "execution_count": null,
      "metadata": {
        "id": "xA_8u431C2nW"
      },
      "outputs": [],
      "source": [
        "# Import libraries\n",
        "import pandas as pd\n",
        "import numpy as np\n",
        "import matplotlib.pyplot as plt\n",
        "import seaborn as sns\n",
        "from google.colab import drive"
      ]
    },
    {
      "cell_type": "code",
      "execution_count": null,
      "metadata": {
        "colab": {
          "base_uri": "https://localhost:8080/"
        },
        "id": "eb36YqgkC4vE",
        "outputId": "b16947e9-c554-435f-b77b-ac84ca88f793"
      },
      "outputs": [
        {
          "name": "stdout",
          "output_type": "stream",
          "text": [
            "Mounted at /content/drive\n"
          ]
        }
      ],
      "source": [
        "# Mount Google Drive\n",
        "drive.mount('/content/drive')"
      ]
    },
    {
      "cell_type": "code",
      "execution_count": null,
      "metadata": {
        "id": "zPAQEhqnC9lu"
      },
      "outputs": [],
      "source": [
        "# Load data train\n",
        "file = '/content/drive/MyDrive/Colab Notebooks/Dataset/Kaggle/train.csv'\n",
        "df_train = pd.read_csv(file)"
      ]
    },
    {
      "cell_type": "code",
      "execution_count": null,
      "metadata": {
        "id": "lv16MR9oC_nr"
      },
      "outputs": [],
      "source": [
        "# Load data test\n",
        "file1 = '/content/drive/MyDrive/Colab Notebooks/Dataset/Kaggle/test.csv'\n",
        "df_test = pd.read_csv(file1)"
      ]
    },
    {
      "cell_type": "markdown",
      "metadata": {
        "id": "BV7M4mVn9sP7"
      },
      "source": [
        "# Exploratory Data Analysis (EDA)"
      ]
    },
    {
      "cell_type": "markdown",
      "metadata": {
        "id": "VpE1qgUf9stf"
      },
      "source": [
        "## 2.1 Initial Data Inspection"
      ]
    },
    {
      "cell_type": "markdown",
      "metadata": {
        "id": "sJJblSQi9uVD"
      },
      "source": [
        "### 2.1.1 Data Structure and Types"
      ]
    },
    {
      "cell_type": "code",
      "execution_count": null,
      "metadata": {
        "colab": {
          "base_uri": "https://localhost:8080/"
        },
        "id": "coXE98CWDOdv",
        "outputId": "4b18ccd8-9cd3-4a42-da5f-b185dd31e9d6"
      },
      "outputs": [
        {
          "name": "stdout",
          "output_type": "stream",
          "text": [
            "<class 'pandas.core.frame.DataFrame'>\n",
            "RangeIndex: 1117957 entries, 0 to 1117956\n",
            "Data columns (total 22 columns):\n",
            " #   Column                           Non-Null Count    Dtype  \n",
            "---  ------                           --------------    -----  \n",
            " 0   id                               1117957 non-null  int64  \n",
            " 1   MonsoonIntensity                 1117957 non-null  int64  \n",
            " 2   TopographyDrainage               1117957 non-null  int64  \n",
            " 3   RiverManagement                  1117957 non-null  int64  \n",
            " 4   Deforestation                    1117957 non-null  int64  \n",
            " 5   Urbanization                     1117957 non-null  int64  \n",
            " 6   ClimateChange                    1117957 non-null  int64  \n",
            " 7   DamsQuality                      1117957 non-null  int64  \n",
            " 8   Siltation                        1117957 non-null  int64  \n",
            " 9   AgriculturalPractices            1117957 non-null  int64  \n",
            " 10  Encroachments                    1117957 non-null  int64  \n",
            " 11  IneffectiveDisasterPreparedness  1117957 non-null  int64  \n",
            " 12  DrainageSystems                  1117957 non-null  int64  \n",
            " 13  CoastalVulnerability             1117957 non-null  int64  \n",
            " 14  Landslides                       1117957 non-null  int64  \n",
            " 15  Watersheds                       1117957 non-null  int64  \n",
            " 16  DeterioratingInfrastructure      1117957 non-null  int64  \n",
            " 17  PopulationScore                  1117957 non-null  int64  \n",
            " 18  WetlandLoss                      1117957 non-null  int64  \n",
            " 19  InadequatePlanning               1117957 non-null  int64  \n",
            " 20  PoliticalFactors                 1117957 non-null  int64  \n",
            " 21  FloodProbability                 1117957 non-null  float64\n",
            "dtypes: float64(1), int64(21)\n",
            "memory usage: 187.6 MB\n"
          ]
        }
      ],
      "source": [
        "df_train.info()"
      ]
    },
    {
      "cell_type": "code",
      "execution_count": null,
      "metadata": {
        "colab": {
          "base_uri": "https://localhost:8080/",
          "height": 256
        },
        "id": "pWx9ddo-DcI9",
        "outputId": "59f15775-296b-46eb-bd5a-c8ac79f4bb13"
      },
      "outputs": [
        {
          "data": {
            "application/vnd.google.colaboratory.intrinsic+json": {
              "type": "dataframe",
              "variable_name": "df_train"
            },
            "text/html": [
              "\n",
              "  <div id=\"df-134b7aac-8ea2-4967-b18b-2bba8bd971e3\" class=\"colab-df-container\">\n",
              "    <div>\n",
              "<style scoped>\n",
              "    .dataframe tbody tr th:only-of-type {\n",
              "        vertical-align: middle;\n",
              "    }\n",
              "\n",
              "    .dataframe tbody tr th {\n",
              "        vertical-align: top;\n",
              "    }\n",
              "\n",
              "    .dataframe thead th {\n",
              "        text-align: right;\n",
              "    }\n",
              "</style>\n",
              "<table border=\"1\" class=\"dataframe\">\n",
              "  <thead>\n",
              "    <tr style=\"text-align: right;\">\n",
              "      <th></th>\n",
              "      <th>id</th>\n",
              "      <th>MonsoonIntensity</th>\n",
              "      <th>TopographyDrainage</th>\n",
              "      <th>RiverManagement</th>\n",
              "      <th>Deforestation</th>\n",
              "      <th>Urbanization</th>\n",
              "      <th>ClimateChange</th>\n",
              "      <th>DamsQuality</th>\n",
              "      <th>Siltation</th>\n",
              "      <th>AgriculturalPractices</th>\n",
              "      <th>...</th>\n",
              "      <th>DrainageSystems</th>\n",
              "      <th>CoastalVulnerability</th>\n",
              "      <th>Landslides</th>\n",
              "      <th>Watersheds</th>\n",
              "      <th>DeterioratingInfrastructure</th>\n",
              "      <th>PopulationScore</th>\n",
              "      <th>WetlandLoss</th>\n",
              "      <th>InadequatePlanning</th>\n",
              "      <th>PoliticalFactors</th>\n",
              "      <th>FloodProbability</th>\n",
              "    </tr>\n",
              "  </thead>\n",
              "  <tbody>\n",
              "    <tr>\n",
              "      <th>0</th>\n",
              "      <td>0</td>\n",
              "      <td>5</td>\n",
              "      <td>8</td>\n",
              "      <td>5</td>\n",
              "      <td>8</td>\n",
              "      <td>6</td>\n",
              "      <td>4</td>\n",
              "      <td>4</td>\n",
              "      <td>3</td>\n",
              "      <td>3</td>\n",
              "      <td>...</td>\n",
              "      <td>5</td>\n",
              "      <td>3</td>\n",
              "      <td>3</td>\n",
              "      <td>5</td>\n",
              "      <td>4</td>\n",
              "      <td>7</td>\n",
              "      <td>5</td>\n",
              "      <td>7</td>\n",
              "      <td>3</td>\n",
              "      <td>0.445</td>\n",
              "    </tr>\n",
              "    <tr>\n",
              "      <th>1</th>\n",
              "      <td>1</td>\n",
              "      <td>6</td>\n",
              "      <td>7</td>\n",
              "      <td>4</td>\n",
              "      <td>4</td>\n",
              "      <td>8</td>\n",
              "      <td>8</td>\n",
              "      <td>3</td>\n",
              "      <td>5</td>\n",
              "      <td>4</td>\n",
              "      <td>...</td>\n",
              "      <td>7</td>\n",
              "      <td>2</td>\n",
              "      <td>0</td>\n",
              "      <td>3</td>\n",
              "      <td>5</td>\n",
              "      <td>3</td>\n",
              "      <td>3</td>\n",
              "      <td>4</td>\n",
              "      <td>3</td>\n",
              "      <td>0.450</td>\n",
              "    </tr>\n",
              "    <tr>\n",
              "      <th>2</th>\n",
              "      <td>2</td>\n",
              "      <td>6</td>\n",
              "      <td>5</td>\n",
              "      <td>6</td>\n",
              "      <td>7</td>\n",
              "      <td>3</td>\n",
              "      <td>7</td>\n",
              "      <td>1</td>\n",
              "      <td>5</td>\n",
              "      <td>4</td>\n",
              "      <td>...</td>\n",
              "      <td>7</td>\n",
              "      <td>3</td>\n",
              "      <td>7</td>\n",
              "      <td>5</td>\n",
              "      <td>6</td>\n",
              "      <td>8</td>\n",
              "      <td>2</td>\n",
              "      <td>3</td>\n",
              "      <td>3</td>\n",
              "      <td>0.530</td>\n",
              "    </tr>\n",
              "    <tr>\n",
              "      <th>3</th>\n",
              "      <td>3</td>\n",
              "      <td>3</td>\n",
              "      <td>4</td>\n",
              "      <td>6</td>\n",
              "      <td>5</td>\n",
              "      <td>4</td>\n",
              "      <td>8</td>\n",
              "      <td>4</td>\n",
              "      <td>7</td>\n",
              "      <td>6</td>\n",
              "      <td>...</td>\n",
              "      <td>2</td>\n",
              "      <td>4</td>\n",
              "      <td>7</td>\n",
              "      <td>4</td>\n",
              "      <td>4</td>\n",
              "      <td>6</td>\n",
              "      <td>5</td>\n",
              "      <td>7</td>\n",
              "      <td>5</td>\n",
              "      <td>0.535</td>\n",
              "    </tr>\n",
              "    <tr>\n",
              "      <th>4</th>\n",
              "      <td>4</td>\n",
              "      <td>5</td>\n",
              "      <td>3</td>\n",
              "      <td>2</td>\n",
              "      <td>6</td>\n",
              "      <td>4</td>\n",
              "      <td>4</td>\n",
              "      <td>3</td>\n",
              "      <td>3</td>\n",
              "      <td>3</td>\n",
              "      <td>...</td>\n",
              "      <td>2</td>\n",
              "      <td>2</td>\n",
              "      <td>6</td>\n",
              "      <td>6</td>\n",
              "      <td>4</td>\n",
              "      <td>1</td>\n",
              "      <td>2</td>\n",
              "      <td>3</td>\n",
              "      <td>5</td>\n",
              "      <td>0.415</td>\n",
              "    </tr>\n",
              "  </tbody>\n",
              "</table>\n",
              "<p>5 rows × 22 columns</p>\n",
              "</div>\n",
              "    <div class=\"colab-df-buttons\">\n",
              "\n",
              "  <div class=\"colab-df-container\">\n",
              "    <button class=\"colab-df-convert\" onclick=\"convertToInteractive('df-134b7aac-8ea2-4967-b18b-2bba8bd971e3')\"\n",
              "            title=\"Convert this dataframe to an interactive table.\"\n",
              "            style=\"display:none;\">\n",
              "\n",
              "  <svg xmlns=\"http://www.w3.org/2000/svg\" height=\"24px\" viewBox=\"0 -960 960 960\">\n",
              "    <path d=\"M120-120v-720h720v720H120Zm60-500h600v-160H180v160Zm220 220h160v-160H400v160Zm0 220h160v-160H400v160ZM180-400h160v-160H180v160Zm440 0h160v-160H620v160ZM180-180h160v-160H180v160Zm440 0h160v-160H620v160Z\"/>\n",
              "  </svg>\n",
              "    </button>\n",
              "\n",
              "  <style>\n",
              "    .colab-df-container {\n",
              "      display:flex;\n",
              "      gap: 12px;\n",
              "    }\n",
              "\n",
              "    .colab-df-convert {\n",
              "      background-color: #E8F0FE;\n",
              "      border: none;\n",
              "      border-radius: 50%;\n",
              "      cursor: pointer;\n",
              "      display: none;\n",
              "      fill: #1967D2;\n",
              "      height: 32px;\n",
              "      padding: 0 0 0 0;\n",
              "      width: 32px;\n",
              "    }\n",
              "\n",
              "    .colab-df-convert:hover {\n",
              "      background-color: #E2EBFA;\n",
              "      box-shadow: 0px 1px 2px rgba(60, 64, 67, 0.3), 0px 1px 3px 1px rgba(60, 64, 67, 0.15);\n",
              "      fill: #174EA6;\n",
              "    }\n",
              "\n",
              "    .colab-df-buttons div {\n",
              "      margin-bottom: 4px;\n",
              "    }\n",
              "\n",
              "    [theme=dark] .colab-df-convert {\n",
              "      background-color: #3B4455;\n",
              "      fill: #D2E3FC;\n",
              "    }\n",
              "\n",
              "    [theme=dark] .colab-df-convert:hover {\n",
              "      background-color: #434B5C;\n",
              "      box-shadow: 0px 1px 3px 1px rgba(0, 0, 0, 0.15);\n",
              "      filter: drop-shadow(0px 1px 2px rgba(0, 0, 0, 0.3));\n",
              "      fill: #FFFFFF;\n",
              "    }\n",
              "  </style>\n",
              "\n",
              "    <script>\n",
              "      const buttonEl =\n",
              "        document.querySelector('#df-134b7aac-8ea2-4967-b18b-2bba8bd971e3 button.colab-df-convert');\n",
              "      buttonEl.style.display =\n",
              "        google.colab.kernel.accessAllowed ? 'block' : 'none';\n",
              "\n",
              "      async function convertToInteractive(key) {\n",
              "        const element = document.querySelector('#df-134b7aac-8ea2-4967-b18b-2bba8bd971e3');\n",
              "        const dataTable =\n",
              "          await google.colab.kernel.invokeFunction('convertToInteractive',\n",
              "                                                    [key], {});\n",
              "        if (!dataTable) return;\n",
              "\n",
              "        const docLinkHtml = 'Like what you see? Visit the ' +\n",
              "          '<a target=\"_blank\" href=https://colab.research.google.com/notebooks/data_table.ipynb>data table notebook</a>'\n",
              "          + ' to learn more about interactive tables.';\n",
              "        element.innerHTML = '';\n",
              "        dataTable['output_type'] = 'display_data';\n",
              "        await google.colab.output.renderOutput(dataTable, element);\n",
              "        const docLink = document.createElement('div');\n",
              "        docLink.innerHTML = docLinkHtml;\n",
              "        element.appendChild(docLink);\n",
              "      }\n",
              "    </script>\n",
              "  </div>\n",
              "\n",
              "\n",
              "<div id=\"df-c4603040-2abd-461c-b19c-32533613c92b\">\n",
              "  <button class=\"colab-df-quickchart\" onclick=\"quickchart('df-c4603040-2abd-461c-b19c-32533613c92b')\"\n",
              "            title=\"Suggest charts\"\n",
              "            style=\"display:none;\">\n",
              "\n",
              "<svg xmlns=\"http://www.w3.org/2000/svg\" height=\"24px\"viewBox=\"0 0 24 24\"\n",
              "     width=\"24px\">\n",
              "    <g>\n",
              "        <path d=\"M19 3H5c-1.1 0-2 .9-2 2v14c0 1.1.9 2 2 2h14c1.1 0 2-.9 2-2V5c0-1.1-.9-2-2-2zM9 17H7v-7h2v7zm4 0h-2V7h2v10zm4 0h-2v-4h2v4z\"/>\n",
              "    </g>\n",
              "</svg>\n",
              "  </button>\n",
              "\n",
              "<style>\n",
              "  .colab-df-quickchart {\n",
              "      --bg-color: #E8F0FE;\n",
              "      --fill-color: #1967D2;\n",
              "      --hover-bg-color: #E2EBFA;\n",
              "      --hover-fill-color: #174EA6;\n",
              "      --disabled-fill-color: #AAA;\n",
              "      --disabled-bg-color: #DDD;\n",
              "  }\n",
              "\n",
              "  [theme=dark] .colab-df-quickchart {\n",
              "      --bg-color: #3B4455;\n",
              "      --fill-color: #D2E3FC;\n",
              "      --hover-bg-color: #434B5C;\n",
              "      --hover-fill-color: #FFFFFF;\n",
              "      --disabled-bg-color: #3B4455;\n",
              "      --disabled-fill-color: #666;\n",
              "  }\n",
              "\n",
              "  .colab-df-quickchart {\n",
              "    background-color: var(--bg-color);\n",
              "    border: none;\n",
              "    border-radius: 50%;\n",
              "    cursor: pointer;\n",
              "    display: none;\n",
              "    fill: var(--fill-color);\n",
              "    height: 32px;\n",
              "    padding: 0;\n",
              "    width: 32px;\n",
              "  }\n",
              "\n",
              "  .colab-df-quickchart:hover {\n",
              "    background-color: var(--hover-bg-color);\n",
              "    box-shadow: 0 1px 2px rgba(60, 64, 67, 0.3), 0 1px 3px 1px rgba(60, 64, 67, 0.15);\n",
              "    fill: var(--button-hover-fill-color);\n",
              "  }\n",
              "\n",
              "  .colab-df-quickchart-complete:disabled,\n",
              "  .colab-df-quickchart-complete:disabled:hover {\n",
              "    background-color: var(--disabled-bg-color);\n",
              "    fill: var(--disabled-fill-color);\n",
              "    box-shadow: none;\n",
              "  }\n",
              "\n",
              "  .colab-df-spinner {\n",
              "    border: 2px solid var(--fill-color);\n",
              "    border-color: transparent;\n",
              "    border-bottom-color: var(--fill-color);\n",
              "    animation:\n",
              "      spin 1s steps(1) infinite;\n",
              "  }\n",
              "\n",
              "  @keyframes spin {\n",
              "    0% {\n",
              "      border-color: transparent;\n",
              "      border-bottom-color: var(--fill-color);\n",
              "      border-left-color: var(--fill-color);\n",
              "    }\n",
              "    20% {\n",
              "      border-color: transparent;\n",
              "      border-left-color: var(--fill-color);\n",
              "      border-top-color: var(--fill-color);\n",
              "    }\n",
              "    30% {\n",
              "      border-color: transparent;\n",
              "      border-left-color: var(--fill-color);\n",
              "      border-top-color: var(--fill-color);\n",
              "      border-right-color: var(--fill-color);\n",
              "    }\n",
              "    40% {\n",
              "      border-color: transparent;\n",
              "      border-right-color: var(--fill-color);\n",
              "      border-top-color: var(--fill-color);\n",
              "    }\n",
              "    60% {\n",
              "      border-color: transparent;\n",
              "      border-right-color: var(--fill-color);\n",
              "    }\n",
              "    80% {\n",
              "      border-color: transparent;\n",
              "      border-right-color: var(--fill-color);\n",
              "      border-bottom-color: var(--fill-color);\n",
              "    }\n",
              "    90% {\n",
              "      border-color: transparent;\n",
              "      border-bottom-color: var(--fill-color);\n",
              "    }\n",
              "  }\n",
              "</style>\n",
              "\n",
              "  <script>\n",
              "    async function quickchart(key) {\n",
              "      const quickchartButtonEl =\n",
              "        document.querySelector('#' + key + ' button');\n",
              "      quickchartButtonEl.disabled = true;  // To prevent multiple clicks.\n",
              "      quickchartButtonEl.classList.add('colab-df-spinner');\n",
              "      try {\n",
              "        const charts = await google.colab.kernel.invokeFunction(\n",
              "            'suggestCharts', [key], {});\n",
              "      } catch (error) {\n",
              "        console.error('Error during call to suggestCharts:', error);\n",
              "      }\n",
              "      quickchartButtonEl.classList.remove('colab-df-spinner');\n",
              "      quickchartButtonEl.classList.add('colab-df-quickchart-complete');\n",
              "    }\n",
              "    (() => {\n",
              "      let quickchartButtonEl =\n",
              "        document.querySelector('#df-c4603040-2abd-461c-b19c-32533613c92b button');\n",
              "      quickchartButtonEl.style.display =\n",
              "        google.colab.kernel.accessAllowed ? 'block' : 'none';\n",
              "    })();\n",
              "  </script>\n",
              "</div>\n",
              "\n",
              "    </div>\n",
              "  </div>\n"
            ],
            "text/plain": [
              "   id  MonsoonIntensity  TopographyDrainage  RiverManagement  Deforestation  \\\n",
              "0   0                 5                   8                5              8   \n",
              "1   1                 6                   7                4              4   \n",
              "2   2                 6                   5                6              7   \n",
              "3   3                 3                   4                6              5   \n",
              "4   4                 5                   3                2              6   \n",
              "\n",
              "   Urbanization  ClimateChange  DamsQuality  Siltation  AgriculturalPractices  \\\n",
              "0             6              4            4          3                      3   \n",
              "1             8              8            3          5                      4   \n",
              "2             3              7            1          5                      4   \n",
              "3             4              8            4          7                      6   \n",
              "4             4              4            3          3                      3   \n",
              "\n",
              "   ...  DrainageSystems  CoastalVulnerability  Landslides  Watersheds  \\\n",
              "0  ...                5                     3           3           5   \n",
              "1  ...                7                     2           0           3   \n",
              "2  ...                7                     3           7           5   \n",
              "3  ...                2                     4           7           4   \n",
              "4  ...                2                     2           6           6   \n",
              "\n",
              "   DeterioratingInfrastructure  PopulationScore  WetlandLoss  \\\n",
              "0                            4                7            5   \n",
              "1                            5                3            3   \n",
              "2                            6                8            2   \n",
              "3                            4                6            5   \n",
              "4                            4                1            2   \n",
              "\n",
              "   InadequatePlanning  PoliticalFactors  FloodProbability  \n",
              "0                   7                 3             0.445  \n",
              "1                   4                 3             0.450  \n",
              "2                   3                 3             0.530  \n",
              "3                   7                 5             0.535  \n",
              "4                   3                 5             0.415  \n",
              "\n",
              "[5 rows x 22 columns]"
            ]
          },
          "execution_count": 6,
          "metadata": {},
          "output_type": "execute_result"
        }
      ],
      "source": [
        "df_train.head()"
      ]
    },
    {
      "cell_type": "code",
      "execution_count": null,
      "metadata": {
        "colab": {
          "base_uri": "https://localhost:8080/"
        },
        "id": "yQTsTASrDhcQ",
        "outputId": "bcff378e-f0fe-47dc-dd69-be72d23c73fd"
      },
      "outputs": [
        {
          "name": "stdout",
          "output_type": "stream",
          "text": [
            "<class 'pandas.core.frame.DataFrame'>\n",
            "RangeIndex: 745305 entries, 0 to 745304\n",
            "Data columns (total 21 columns):\n",
            " #   Column                           Non-Null Count   Dtype\n",
            "---  ------                           --------------   -----\n",
            " 0   id                               745305 non-null  int64\n",
            " 1   MonsoonIntensity                 745305 non-null  int64\n",
            " 2   TopographyDrainage               745305 non-null  int64\n",
            " 3   RiverManagement                  745305 non-null  int64\n",
            " 4   Deforestation                    745305 non-null  int64\n",
            " 5   Urbanization                     745305 non-null  int64\n",
            " 6   ClimateChange                    745305 non-null  int64\n",
            " 7   DamsQuality                      745305 non-null  int64\n",
            " 8   Siltation                        745305 non-null  int64\n",
            " 9   AgriculturalPractices            745305 non-null  int64\n",
            " 10  Encroachments                    745305 non-null  int64\n",
            " 11  IneffectiveDisasterPreparedness  745305 non-null  int64\n",
            " 12  DrainageSystems                  745305 non-null  int64\n",
            " 13  CoastalVulnerability             745305 non-null  int64\n",
            " 14  Landslides                       745305 non-null  int64\n",
            " 15  Watersheds                       745305 non-null  int64\n",
            " 16  DeterioratingInfrastructure      745305 non-null  int64\n",
            " 17  PopulationScore                  745305 non-null  int64\n",
            " 18  WetlandLoss                      745305 non-null  int64\n",
            " 19  InadequatePlanning               745305 non-null  int64\n",
            " 20  PoliticalFactors                 745305 non-null  int64\n",
            "dtypes: int64(21)\n",
            "memory usage: 119.4 MB\n"
          ]
        }
      ],
      "source": [
        "df_test.info()"
      ]
    },
    {
      "cell_type": "code",
      "execution_count": null,
      "metadata": {
        "colab": {
          "base_uri": "https://localhost:8080/",
          "height": 256
        },
        "id": "Ki5g0wOUDiux",
        "outputId": "ad625d3e-e8d1-4e52-f718-e2f6a2683e67"
      },
      "outputs": [
        {
          "data": {
            "application/vnd.google.colaboratory.intrinsic+json": {
              "type": "dataframe",
              "variable_name": "df_test"
            },
            "text/html": [
              "\n",
              "  <div id=\"df-930119ad-27a4-447a-8651-a44000b5906c\" class=\"colab-df-container\">\n",
              "    <div>\n",
              "<style scoped>\n",
              "    .dataframe tbody tr th:only-of-type {\n",
              "        vertical-align: middle;\n",
              "    }\n",
              "\n",
              "    .dataframe tbody tr th {\n",
              "        vertical-align: top;\n",
              "    }\n",
              "\n",
              "    .dataframe thead th {\n",
              "        text-align: right;\n",
              "    }\n",
              "</style>\n",
              "<table border=\"1\" class=\"dataframe\">\n",
              "  <thead>\n",
              "    <tr style=\"text-align: right;\">\n",
              "      <th></th>\n",
              "      <th>id</th>\n",
              "      <th>MonsoonIntensity</th>\n",
              "      <th>TopographyDrainage</th>\n",
              "      <th>RiverManagement</th>\n",
              "      <th>Deforestation</th>\n",
              "      <th>Urbanization</th>\n",
              "      <th>ClimateChange</th>\n",
              "      <th>DamsQuality</th>\n",
              "      <th>Siltation</th>\n",
              "      <th>AgriculturalPractices</th>\n",
              "      <th>...</th>\n",
              "      <th>IneffectiveDisasterPreparedness</th>\n",
              "      <th>DrainageSystems</th>\n",
              "      <th>CoastalVulnerability</th>\n",
              "      <th>Landslides</th>\n",
              "      <th>Watersheds</th>\n",
              "      <th>DeterioratingInfrastructure</th>\n",
              "      <th>PopulationScore</th>\n",
              "      <th>WetlandLoss</th>\n",
              "      <th>InadequatePlanning</th>\n",
              "      <th>PoliticalFactors</th>\n",
              "    </tr>\n",
              "  </thead>\n",
              "  <tbody>\n",
              "    <tr>\n",
              "      <th>0</th>\n",
              "      <td>1117957</td>\n",
              "      <td>4</td>\n",
              "      <td>6</td>\n",
              "      <td>3</td>\n",
              "      <td>5</td>\n",
              "      <td>6</td>\n",
              "      <td>7</td>\n",
              "      <td>8</td>\n",
              "      <td>7</td>\n",
              "      <td>8</td>\n",
              "      <td>...</td>\n",
              "      <td>8</td>\n",
              "      <td>5</td>\n",
              "      <td>7</td>\n",
              "      <td>5</td>\n",
              "      <td>6</td>\n",
              "      <td>3</td>\n",
              "      <td>6</td>\n",
              "      <td>4</td>\n",
              "      <td>4</td>\n",
              "      <td>5</td>\n",
              "    </tr>\n",
              "    <tr>\n",
              "      <th>1</th>\n",
              "      <td>1117958</td>\n",
              "      <td>4</td>\n",
              "      <td>4</td>\n",
              "      <td>2</td>\n",
              "      <td>9</td>\n",
              "      <td>5</td>\n",
              "      <td>5</td>\n",
              "      <td>4</td>\n",
              "      <td>7</td>\n",
              "      <td>5</td>\n",
              "      <td>...</td>\n",
              "      <td>2</td>\n",
              "      <td>4</td>\n",
              "      <td>7</td>\n",
              "      <td>4</td>\n",
              "      <td>5</td>\n",
              "      <td>1</td>\n",
              "      <td>7</td>\n",
              "      <td>4</td>\n",
              "      <td>4</td>\n",
              "      <td>3</td>\n",
              "    </tr>\n",
              "    <tr>\n",
              "      <th>2</th>\n",
              "      <td>1117959</td>\n",
              "      <td>1</td>\n",
              "      <td>3</td>\n",
              "      <td>6</td>\n",
              "      <td>5</td>\n",
              "      <td>7</td>\n",
              "      <td>2</td>\n",
              "      <td>4</td>\n",
              "      <td>6</td>\n",
              "      <td>4</td>\n",
              "      <td>...</td>\n",
              "      <td>7</td>\n",
              "      <td>9</td>\n",
              "      <td>2</td>\n",
              "      <td>5</td>\n",
              "      <td>5</td>\n",
              "      <td>2</td>\n",
              "      <td>3</td>\n",
              "      <td>6</td>\n",
              "      <td>8</td>\n",
              "      <td>3</td>\n",
              "    </tr>\n",
              "    <tr>\n",
              "      <th>3</th>\n",
              "      <td>1117960</td>\n",
              "      <td>2</td>\n",
              "      <td>4</td>\n",
              "      <td>4</td>\n",
              "      <td>6</td>\n",
              "      <td>4</td>\n",
              "      <td>5</td>\n",
              "      <td>4</td>\n",
              "      <td>3</td>\n",
              "      <td>4</td>\n",
              "      <td>...</td>\n",
              "      <td>7</td>\n",
              "      <td>8</td>\n",
              "      <td>4</td>\n",
              "      <td>6</td>\n",
              "      <td>7</td>\n",
              "      <td>6</td>\n",
              "      <td>4</td>\n",
              "      <td>2</td>\n",
              "      <td>4</td>\n",
              "      <td>4</td>\n",
              "    </tr>\n",
              "    <tr>\n",
              "      <th>4</th>\n",
              "      <td>1117961</td>\n",
              "      <td>6</td>\n",
              "      <td>3</td>\n",
              "      <td>2</td>\n",
              "      <td>4</td>\n",
              "      <td>6</td>\n",
              "      <td>4</td>\n",
              "      <td>5</td>\n",
              "      <td>5</td>\n",
              "      <td>3</td>\n",
              "      <td>...</td>\n",
              "      <td>4</td>\n",
              "      <td>3</td>\n",
              "      <td>2</td>\n",
              "      <td>6</td>\n",
              "      <td>4</td>\n",
              "      <td>6</td>\n",
              "      <td>8</td>\n",
              "      <td>4</td>\n",
              "      <td>5</td>\n",
              "      <td>5</td>\n",
              "    </tr>\n",
              "  </tbody>\n",
              "</table>\n",
              "<p>5 rows × 21 columns</p>\n",
              "</div>\n",
              "    <div class=\"colab-df-buttons\">\n",
              "\n",
              "  <div class=\"colab-df-container\">\n",
              "    <button class=\"colab-df-convert\" onclick=\"convertToInteractive('df-930119ad-27a4-447a-8651-a44000b5906c')\"\n",
              "            title=\"Convert this dataframe to an interactive table.\"\n",
              "            style=\"display:none;\">\n",
              "\n",
              "  <svg xmlns=\"http://www.w3.org/2000/svg\" height=\"24px\" viewBox=\"0 -960 960 960\">\n",
              "    <path d=\"M120-120v-720h720v720H120Zm60-500h600v-160H180v160Zm220 220h160v-160H400v160Zm0 220h160v-160H400v160ZM180-400h160v-160H180v160Zm440 0h160v-160H620v160ZM180-180h160v-160H180v160Zm440 0h160v-160H620v160Z\"/>\n",
              "  </svg>\n",
              "    </button>\n",
              "\n",
              "  <style>\n",
              "    .colab-df-container {\n",
              "      display:flex;\n",
              "      gap: 12px;\n",
              "    }\n",
              "\n",
              "    .colab-df-convert {\n",
              "      background-color: #E8F0FE;\n",
              "      border: none;\n",
              "      border-radius: 50%;\n",
              "      cursor: pointer;\n",
              "      display: none;\n",
              "      fill: #1967D2;\n",
              "      height: 32px;\n",
              "      padding: 0 0 0 0;\n",
              "      width: 32px;\n",
              "    }\n",
              "\n",
              "    .colab-df-convert:hover {\n",
              "      background-color: #E2EBFA;\n",
              "      box-shadow: 0px 1px 2px rgba(60, 64, 67, 0.3), 0px 1px 3px 1px rgba(60, 64, 67, 0.15);\n",
              "      fill: #174EA6;\n",
              "    }\n",
              "\n",
              "    .colab-df-buttons div {\n",
              "      margin-bottom: 4px;\n",
              "    }\n",
              "\n",
              "    [theme=dark] .colab-df-convert {\n",
              "      background-color: #3B4455;\n",
              "      fill: #D2E3FC;\n",
              "    }\n",
              "\n",
              "    [theme=dark] .colab-df-convert:hover {\n",
              "      background-color: #434B5C;\n",
              "      box-shadow: 0px 1px 3px 1px rgba(0, 0, 0, 0.15);\n",
              "      filter: drop-shadow(0px 1px 2px rgba(0, 0, 0, 0.3));\n",
              "      fill: #FFFFFF;\n",
              "    }\n",
              "  </style>\n",
              "\n",
              "    <script>\n",
              "      const buttonEl =\n",
              "        document.querySelector('#df-930119ad-27a4-447a-8651-a44000b5906c button.colab-df-convert');\n",
              "      buttonEl.style.display =\n",
              "        google.colab.kernel.accessAllowed ? 'block' : 'none';\n",
              "\n",
              "      async function convertToInteractive(key) {\n",
              "        const element = document.querySelector('#df-930119ad-27a4-447a-8651-a44000b5906c');\n",
              "        const dataTable =\n",
              "          await google.colab.kernel.invokeFunction('convertToInteractive',\n",
              "                                                    [key], {});\n",
              "        if (!dataTable) return;\n",
              "\n",
              "        const docLinkHtml = 'Like what you see? Visit the ' +\n",
              "          '<a target=\"_blank\" href=https://colab.research.google.com/notebooks/data_table.ipynb>data table notebook</a>'\n",
              "          + ' to learn more about interactive tables.';\n",
              "        element.innerHTML = '';\n",
              "        dataTable['output_type'] = 'display_data';\n",
              "        await google.colab.output.renderOutput(dataTable, element);\n",
              "        const docLink = document.createElement('div');\n",
              "        docLink.innerHTML = docLinkHtml;\n",
              "        element.appendChild(docLink);\n",
              "      }\n",
              "    </script>\n",
              "  </div>\n",
              "\n",
              "\n",
              "<div id=\"df-d8ad75f2-c912-47a4-b7db-d874237101e3\">\n",
              "  <button class=\"colab-df-quickchart\" onclick=\"quickchart('df-d8ad75f2-c912-47a4-b7db-d874237101e3')\"\n",
              "            title=\"Suggest charts\"\n",
              "            style=\"display:none;\">\n",
              "\n",
              "<svg xmlns=\"http://www.w3.org/2000/svg\" height=\"24px\"viewBox=\"0 0 24 24\"\n",
              "     width=\"24px\">\n",
              "    <g>\n",
              "        <path d=\"M19 3H5c-1.1 0-2 .9-2 2v14c0 1.1.9 2 2 2h14c1.1 0 2-.9 2-2V5c0-1.1-.9-2-2-2zM9 17H7v-7h2v7zm4 0h-2V7h2v10zm4 0h-2v-4h2v4z\"/>\n",
              "    </g>\n",
              "</svg>\n",
              "  </button>\n",
              "\n",
              "<style>\n",
              "  .colab-df-quickchart {\n",
              "      --bg-color: #E8F0FE;\n",
              "      --fill-color: #1967D2;\n",
              "      --hover-bg-color: #E2EBFA;\n",
              "      --hover-fill-color: #174EA6;\n",
              "      --disabled-fill-color: #AAA;\n",
              "      --disabled-bg-color: #DDD;\n",
              "  }\n",
              "\n",
              "  [theme=dark] .colab-df-quickchart {\n",
              "      --bg-color: #3B4455;\n",
              "      --fill-color: #D2E3FC;\n",
              "      --hover-bg-color: #434B5C;\n",
              "      --hover-fill-color: #FFFFFF;\n",
              "      --disabled-bg-color: #3B4455;\n",
              "      --disabled-fill-color: #666;\n",
              "  }\n",
              "\n",
              "  .colab-df-quickchart {\n",
              "    background-color: var(--bg-color);\n",
              "    border: none;\n",
              "    border-radius: 50%;\n",
              "    cursor: pointer;\n",
              "    display: none;\n",
              "    fill: var(--fill-color);\n",
              "    height: 32px;\n",
              "    padding: 0;\n",
              "    width: 32px;\n",
              "  }\n",
              "\n",
              "  .colab-df-quickchart:hover {\n",
              "    background-color: var(--hover-bg-color);\n",
              "    box-shadow: 0 1px 2px rgba(60, 64, 67, 0.3), 0 1px 3px 1px rgba(60, 64, 67, 0.15);\n",
              "    fill: var(--button-hover-fill-color);\n",
              "  }\n",
              "\n",
              "  .colab-df-quickchart-complete:disabled,\n",
              "  .colab-df-quickchart-complete:disabled:hover {\n",
              "    background-color: var(--disabled-bg-color);\n",
              "    fill: var(--disabled-fill-color);\n",
              "    box-shadow: none;\n",
              "  }\n",
              "\n",
              "  .colab-df-spinner {\n",
              "    border: 2px solid var(--fill-color);\n",
              "    border-color: transparent;\n",
              "    border-bottom-color: var(--fill-color);\n",
              "    animation:\n",
              "      spin 1s steps(1) infinite;\n",
              "  }\n",
              "\n",
              "  @keyframes spin {\n",
              "    0% {\n",
              "      border-color: transparent;\n",
              "      border-bottom-color: var(--fill-color);\n",
              "      border-left-color: var(--fill-color);\n",
              "    }\n",
              "    20% {\n",
              "      border-color: transparent;\n",
              "      border-left-color: var(--fill-color);\n",
              "      border-top-color: var(--fill-color);\n",
              "    }\n",
              "    30% {\n",
              "      border-color: transparent;\n",
              "      border-left-color: var(--fill-color);\n",
              "      border-top-color: var(--fill-color);\n",
              "      border-right-color: var(--fill-color);\n",
              "    }\n",
              "    40% {\n",
              "      border-color: transparent;\n",
              "      border-right-color: var(--fill-color);\n",
              "      border-top-color: var(--fill-color);\n",
              "    }\n",
              "    60% {\n",
              "      border-color: transparent;\n",
              "      border-right-color: var(--fill-color);\n",
              "    }\n",
              "    80% {\n",
              "      border-color: transparent;\n",
              "      border-right-color: var(--fill-color);\n",
              "      border-bottom-color: var(--fill-color);\n",
              "    }\n",
              "    90% {\n",
              "      border-color: transparent;\n",
              "      border-bottom-color: var(--fill-color);\n",
              "    }\n",
              "  }\n",
              "</style>\n",
              "\n",
              "  <script>\n",
              "    async function quickchart(key) {\n",
              "      const quickchartButtonEl =\n",
              "        document.querySelector('#' + key + ' button');\n",
              "      quickchartButtonEl.disabled = true;  // To prevent multiple clicks.\n",
              "      quickchartButtonEl.classList.add('colab-df-spinner');\n",
              "      try {\n",
              "        const charts = await google.colab.kernel.invokeFunction(\n",
              "            'suggestCharts', [key], {});\n",
              "      } catch (error) {\n",
              "        console.error('Error during call to suggestCharts:', error);\n",
              "      }\n",
              "      quickchartButtonEl.classList.remove('colab-df-spinner');\n",
              "      quickchartButtonEl.classList.add('colab-df-quickchart-complete');\n",
              "    }\n",
              "    (() => {\n",
              "      let quickchartButtonEl =\n",
              "        document.querySelector('#df-d8ad75f2-c912-47a4-b7db-d874237101e3 button');\n",
              "      quickchartButtonEl.style.display =\n",
              "        google.colab.kernel.accessAllowed ? 'block' : 'none';\n",
              "    })();\n",
              "  </script>\n",
              "</div>\n",
              "\n",
              "    </div>\n",
              "  </div>\n"
            ],
            "text/plain": [
              "        id  MonsoonIntensity  TopographyDrainage  RiverManagement  \\\n",
              "0  1117957                 4                   6                3   \n",
              "1  1117958                 4                   4                2   \n",
              "2  1117959                 1                   3                6   \n",
              "3  1117960                 2                   4                4   \n",
              "4  1117961                 6                   3                2   \n",
              "\n",
              "   Deforestation  Urbanization  ClimateChange  DamsQuality  Siltation  \\\n",
              "0              5             6              7            8          7   \n",
              "1              9             5              5            4          7   \n",
              "2              5             7              2            4          6   \n",
              "3              6             4              5            4          3   \n",
              "4              4             6              4            5          5   \n",
              "\n",
              "   AgriculturalPractices  ...  IneffectiveDisasterPreparedness  \\\n",
              "0                      8  ...                                8   \n",
              "1                      5  ...                                2   \n",
              "2                      4  ...                                7   \n",
              "3                      4  ...                                7   \n",
              "4                      3  ...                                4   \n",
              "\n",
              "   DrainageSystems  CoastalVulnerability  Landslides  Watersheds  \\\n",
              "0                5                     7           5           6   \n",
              "1                4                     7           4           5   \n",
              "2                9                     2           5           5   \n",
              "3                8                     4           6           7   \n",
              "4                3                     2           6           4   \n",
              "\n",
              "   DeterioratingInfrastructure  PopulationScore  WetlandLoss  \\\n",
              "0                            3                6            4   \n",
              "1                            1                7            4   \n",
              "2                            2                3            6   \n",
              "3                            6                4            2   \n",
              "4                            6                8            4   \n",
              "\n",
              "   InadequatePlanning  PoliticalFactors  \n",
              "0                   4                 5  \n",
              "1                   4                 3  \n",
              "2                   8                 3  \n",
              "3                   4                 4  \n",
              "4                   5                 5  \n",
              "\n",
              "[5 rows x 21 columns]"
            ]
          },
          "execution_count": 8,
          "metadata": {},
          "output_type": "execute_result"
        }
      ],
      "source": [
        "df_test.head()"
      ]
    },
    {
      "cell_type": "markdown",
      "metadata": {
        "id": "ia55to229vv8"
      },
      "source": [
        "### 2.1.2 Summary Statistics"
      ]
    },
    {
      "cell_type": "code",
      "execution_count": null,
      "metadata": {
        "colab": {
          "base_uri": "https://localhost:8080/",
          "height": 367
        },
        "id": "0umGZzqVEL7M",
        "outputId": "6ebeadf9-aaf2-4502-d8ef-e0b8ad8281bc"
      },
      "outputs": [
        {
          "name": "stdout",
          "output_type": "stream",
          "text": [
            "Training Data Summary Statistics:\n"
          ]
        },
        {
          "data": {
            "application/vnd.google.colaboratory.intrinsic+json": {
              "type": "dataframe"
            },
            "text/html": [
              "\n",
              "  <div id=\"df-6a5d4e16-3a4c-442f-90dc-10540ebd51f7\" class=\"colab-df-container\">\n",
              "    <div>\n",
              "<style scoped>\n",
              "    .dataframe tbody tr th:only-of-type {\n",
              "        vertical-align: middle;\n",
              "    }\n",
              "\n",
              "    .dataframe tbody tr th {\n",
              "        vertical-align: top;\n",
              "    }\n",
              "\n",
              "    .dataframe thead th {\n",
              "        text-align: right;\n",
              "    }\n",
              "</style>\n",
              "<table border=\"1\" class=\"dataframe\">\n",
              "  <thead>\n",
              "    <tr style=\"text-align: right;\">\n",
              "      <th></th>\n",
              "      <th>id</th>\n",
              "      <th>MonsoonIntensity</th>\n",
              "      <th>TopographyDrainage</th>\n",
              "      <th>RiverManagement</th>\n",
              "      <th>Deforestation</th>\n",
              "      <th>Urbanization</th>\n",
              "      <th>ClimateChange</th>\n",
              "      <th>DamsQuality</th>\n",
              "      <th>Siltation</th>\n",
              "      <th>AgriculturalPractices</th>\n",
              "      <th>...</th>\n",
              "      <th>DrainageSystems</th>\n",
              "      <th>CoastalVulnerability</th>\n",
              "      <th>Landslides</th>\n",
              "      <th>Watersheds</th>\n",
              "      <th>DeterioratingInfrastructure</th>\n",
              "      <th>PopulationScore</th>\n",
              "      <th>WetlandLoss</th>\n",
              "      <th>InadequatePlanning</th>\n",
              "      <th>PoliticalFactors</th>\n",
              "      <th>FloodProbability</th>\n",
              "    </tr>\n",
              "  </thead>\n",
              "  <tbody>\n",
              "    <tr>\n",
              "      <th>count</th>\n",
              "      <td>1.117957e+06</td>\n",
              "      <td>1.117957e+06</td>\n",
              "      <td>1.117957e+06</td>\n",
              "      <td>1.117957e+06</td>\n",
              "      <td>1.117957e+06</td>\n",
              "      <td>1.117957e+06</td>\n",
              "      <td>1.117957e+06</td>\n",
              "      <td>1.117957e+06</td>\n",
              "      <td>1.117957e+06</td>\n",
              "      <td>1.117957e+06</td>\n",
              "      <td>...</td>\n",
              "      <td>1.117957e+06</td>\n",
              "      <td>1.117957e+06</td>\n",
              "      <td>1.117957e+06</td>\n",
              "      <td>1.117957e+06</td>\n",
              "      <td>1.117957e+06</td>\n",
              "      <td>1.117957e+06</td>\n",
              "      <td>1.117957e+06</td>\n",
              "      <td>1.117957e+06</td>\n",
              "      <td>1.117957e+06</td>\n",
              "      <td>1.117957e+06</td>\n",
              "    </tr>\n",
              "    <tr>\n",
              "      <th>mean</th>\n",
              "      <td>5.589780e+05</td>\n",
              "      <td>4.921450e+00</td>\n",
              "      <td>4.926671e+00</td>\n",
              "      <td>4.955322e+00</td>\n",
              "      <td>4.942240e+00</td>\n",
              "      <td>4.942517e+00</td>\n",
              "      <td>4.934093e+00</td>\n",
              "      <td>4.955878e+00</td>\n",
              "      <td>4.927791e+00</td>\n",
              "      <td>4.942619e+00</td>\n",
              "      <td>...</td>\n",
              "      <td>4.946893e+00</td>\n",
              "      <td>4.953999e+00</td>\n",
              "      <td>4.931376e+00</td>\n",
              "      <td>4.929032e+00</td>\n",
              "      <td>4.925907e+00</td>\n",
              "      <td>4.927520e+00</td>\n",
              "      <td>4.950859e+00</td>\n",
              "      <td>4.940587e+00</td>\n",
              "      <td>4.939004e+00</td>\n",
              "      <td>5.044803e-01</td>\n",
              "    </tr>\n",
              "    <tr>\n",
              "      <th>std</th>\n",
              "      <td>3.227265e+05</td>\n",
              "      <td>2.056387e+00</td>\n",
              "      <td>2.093879e+00</td>\n",
              "      <td>2.072186e+00</td>\n",
              "      <td>2.051689e+00</td>\n",
              "      <td>2.083391e+00</td>\n",
              "      <td>2.057742e+00</td>\n",
              "      <td>2.083063e+00</td>\n",
              "      <td>2.065992e+00</td>\n",
              "      <td>2.068545e+00</td>\n",
              "      <td>...</td>\n",
              "      <td>2.072333e+00</td>\n",
              "      <td>2.088899e+00</td>\n",
              "      <td>2.078287e+00</td>\n",
              "      <td>2.082395e+00</td>\n",
              "      <td>2.064813e+00</td>\n",
              "      <td>2.074176e+00</td>\n",
              "      <td>2.068696e+00</td>\n",
              "      <td>2.081123e+00</td>\n",
              "      <td>2.090350e+00</td>\n",
              "      <td>5.102610e-02</td>\n",
              "    </tr>\n",
              "    <tr>\n",
              "      <th>min</th>\n",
              "      <td>0.000000e+00</td>\n",
              "      <td>0.000000e+00</td>\n",
              "      <td>0.000000e+00</td>\n",
              "      <td>0.000000e+00</td>\n",
              "      <td>0.000000e+00</td>\n",
              "      <td>0.000000e+00</td>\n",
              "      <td>0.000000e+00</td>\n",
              "      <td>0.000000e+00</td>\n",
              "      <td>0.000000e+00</td>\n",
              "      <td>0.000000e+00</td>\n",
              "      <td>...</td>\n",
              "      <td>0.000000e+00</td>\n",
              "      <td>0.000000e+00</td>\n",
              "      <td>0.000000e+00</td>\n",
              "      <td>0.000000e+00</td>\n",
              "      <td>0.000000e+00</td>\n",
              "      <td>0.000000e+00</td>\n",
              "      <td>0.000000e+00</td>\n",
              "      <td>0.000000e+00</td>\n",
              "      <td>0.000000e+00</td>\n",
              "      <td>2.850000e-01</td>\n",
              "    </tr>\n",
              "    <tr>\n",
              "      <th>25%</th>\n",
              "      <td>2.794890e+05</td>\n",
              "      <td>3.000000e+00</td>\n",
              "      <td>3.000000e+00</td>\n",
              "      <td>4.000000e+00</td>\n",
              "      <td>4.000000e+00</td>\n",
              "      <td>3.000000e+00</td>\n",
              "      <td>3.000000e+00</td>\n",
              "      <td>4.000000e+00</td>\n",
              "      <td>3.000000e+00</td>\n",
              "      <td>3.000000e+00</td>\n",
              "      <td>...</td>\n",
              "      <td>4.000000e+00</td>\n",
              "      <td>3.000000e+00</td>\n",
              "      <td>3.000000e+00</td>\n",
              "      <td>3.000000e+00</td>\n",
              "      <td>3.000000e+00</td>\n",
              "      <td>3.000000e+00</td>\n",
              "      <td>4.000000e+00</td>\n",
              "      <td>3.000000e+00</td>\n",
              "      <td>3.000000e+00</td>\n",
              "      <td>4.700000e-01</td>\n",
              "    </tr>\n",
              "    <tr>\n",
              "      <th>50%</th>\n",
              "      <td>5.589780e+05</td>\n",
              "      <td>5.000000e+00</td>\n",
              "      <td>5.000000e+00</td>\n",
              "      <td>5.000000e+00</td>\n",
              "      <td>5.000000e+00</td>\n",
              "      <td>5.000000e+00</td>\n",
              "      <td>5.000000e+00</td>\n",
              "      <td>5.000000e+00</td>\n",
              "      <td>5.000000e+00</td>\n",
              "      <td>5.000000e+00</td>\n",
              "      <td>...</td>\n",
              "      <td>5.000000e+00</td>\n",
              "      <td>5.000000e+00</td>\n",
              "      <td>5.000000e+00</td>\n",
              "      <td>5.000000e+00</td>\n",
              "      <td>5.000000e+00</td>\n",
              "      <td>5.000000e+00</td>\n",
              "      <td>5.000000e+00</td>\n",
              "      <td>5.000000e+00</td>\n",
              "      <td>5.000000e+00</td>\n",
              "      <td>5.050000e-01</td>\n",
              "    </tr>\n",
              "    <tr>\n",
              "      <th>75%</th>\n",
              "      <td>8.384670e+05</td>\n",
              "      <td>6.000000e+00</td>\n",
              "      <td>6.000000e+00</td>\n",
              "      <td>6.000000e+00</td>\n",
              "      <td>6.000000e+00</td>\n",
              "      <td>6.000000e+00</td>\n",
              "      <td>6.000000e+00</td>\n",
              "      <td>6.000000e+00</td>\n",
              "      <td>6.000000e+00</td>\n",
              "      <td>6.000000e+00</td>\n",
              "      <td>...</td>\n",
              "      <td>6.000000e+00</td>\n",
              "      <td>6.000000e+00</td>\n",
              "      <td>6.000000e+00</td>\n",
              "      <td>6.000000e+00</td>\n",
              "      <td>6.000000e+00</td>\n",
              "      <td>6.000000e+00</td>\n",
              "      <td>6.000000e+00</td>\n",
              "      <td>6.000000e+00</td>\n",
              "      <td>6.000000e+00</td>\n",
              "      <td>5.400000e-01</td>\n",
              "    </tr>\n",
              "    <tr>\n",
              "      <th>max</th>\n",
              "      <td>1.117956e+06</td>\n",
              "      <td>1.600000e+01</td>\n",
              "      <td>1.800000e+01</td>\n",
              "      <td>1.600000e+01</td>\n",
              "      <td>1.700000e+01</td>\n",
              "      <td>1.700000e+01</td>\n",
              "      <td>1.700000e+01</td>\n",
              "      <td>1.600000e+01</td>\n",
              "      <td>1.600000e+01</td>\n",
              "      <td>1.600000e+01</td>\n",
              "      <td>...</td>\n",
              "      <td>1.700000e+01</td>\n",
              "      <td>1.700000e+01</td>\n",
              "      <td>1.600000e+01</td>\n",
              "      <td>1.600000e+01</td>\n",
              "      <td>1.700000e+01</td>\n",
              "      <td>1.800000e+01</td>\n",
              "      <td>1.900000e+01</td>\n",
              "      <td>1.600000e+01</td>\n",
              "      <td>1.600000e+01</td>\n",
              "      <td>7.250000e-01</td>\n",
              "    </tr>\n",
              "  </tbody>\n",
              "</table>\n",
              "<p>8 rows × 22 columns</p>\n",
              "</div>\n",
              "    <div class=\"colab-df-buttons\">\n",
              "\n",
              "  <div class=\"colab-df-container\">\n",
              "    <button class=\"colab-df-convert\" onclick=\"convertToInteractive('df-6a5d4e16-3a4c-442f-90dc-10540ebd51f7')\"\n",
              "            title=\"Convert this dataframe to an interactive table.\"\n",
              "            style=\"display:none;\">\n",
              "\n",
              "  <svg xmlns=\"http://www.w3.org/2000/svg\" height=\"24px\" viewBox=\"0 -960 960 960\">\n",
              "    <path d=\"M120-120v-720h720v720H120Zm60-500h600v-160H180v160Zm220 220h160v-160H400v160Zm0 220h160v-160H400v160ZM180-400h160v-160H180v160Zm440 0h160v-160H620v160ZM180-180h160v-160H180v160Zm440 0h160v-160H620v160Z\"/>\n",
              "  </svg>\n",
              "    </button>\n",
              "\n",
              "  <style>\n",
              "    .colab-df-container {\n",
              "      display:flex;\n",
              "      gap: 12px;\n",
              "    }\n",
              "\n",
              "    .colab-df-convert {\n",
              "      background-color: #E8F0FE;\n",
              "      border: none;\n",
              "      border-radius: 50%;\n",
              "      cursor: pointer;\n",
              "      display: none;\n",
              "      fill: #1967D2;\n",
              "      height: 32px;\n",
              "      padding: 0 0 0 0;\n",
              "      width: 32px;\n",
              "    }\n",
              "\n",
              "    .colab-df-convert:hover {\n",
              "      background-color: #E2EBFA;\n",
              "      box-shadow: 0px 1px 2px rgba(60, 64, 67, 0.3), 0px 1px 3px 1px rgba(60, 64, 67, 0.15);\n",
              "      fill: #174EA6;\n",
              "    }\n",
              "\n",
              "    .colab-df-buttons div {\n",
              "      margin-bottom: 4px;\n",
              "    }\n",
              "\n",
              "    [theme=dark] .colab-df-convert {\n",
              "      background-color: #3B4455;\n",
              "      fill: #D2E3FC;\n",
              "    }\n",
              "\n",
              "    [theme=dark] .colab-df-convert:hover {\n",
              "      background-color: #434B5C;\n",
              "      box-shadow: 0px 1px 3px 1px rgba(0, 0, 0, 0.15);\n",
              "      filter: drop-shadow(0px 1px 2px rgba(0, 0, 0, 0.3));\n",
              "      fill: #FFFFFF;\n",
              "    }\n",
              "  </style>\n",
              "\n",
              "    <script>\n",
              "      const buttonEl =\n",
              "        document.querySelector('#df-6a5d4e16-3a4c-442f-90dc-10540ebd51f7 button.colab-df-convert');\n",
              "      buttonEl.style.display =\n",
              "        google.colab.kernel.accessAllowed ? 'block' : 'none';\n",
              "\n",
              "      async function convertToInteractive(key) {\n",
              "        const element = document.querySelector('#df-6a5d4e16-3a4c-442f-90dc-10540ebd51f7');\n",
              "        const dataTable =\n",
              "          await google.colab.kernel.invokeFunction('convertToInteractive',\n",
              "                                                    [key], {});\n",
              "        if (!dataTable) return;\n",
              "\n",
              "        const docLinkHtml = 'Like what you see? Visit the ' +\n",
              "          '<a target=\"_blank\" href=https://colab.research.google.com/notebooks/data_table.ipynb>data table notebook</a>'\n",
              "          + ' to learn more about interactive tables.';\n",
              "        element.innerHTML = '';\n",
              "        dataTable['output_type'] = 'display_data';\n",
              "        await google.colab.output.renderOutput(dataTable, element);\n",
              "        const docLink = document.createElement('div');\n",
              "        docLink.innerHTML = docLinkHtml;\n",
              "        element.appendChild(docLink);\n",
              "      }\n",
              "    </script>\n",
              "  </div>\n",
              "\n",
              "\n",
              "<div id=\"df-c18f9729-8aae-4a3b-b43e-68272c67daf0\">\n",
              "  <button class=\"colab-df-quickchart\" onclick=\"quickchart('df-c18f9729-8aae-4a3b-b43e-68272c67daf0')\"\n",
              "            title=\"Suggest charts\"\n",
              "            style=\"display:none;\">\n",
              "\n",
              "<svg xmlns=\"http://www.w3.org/2000/svg\" height=\"24px\"viewBox=\"0 0 24 24\"\n",
              "     width=\"24px\">\n",
              "    <g>\n",
              "        <path d=\"M19 3H5c-1.1 0-2 .9-2 2v14c0 1.1.9 2 2 2h14c1.1 0 2-.9 2-2V5c0-1.1-.9-2-2-2zM9 17H7v-7h2v7zm4 0h-2V7h2v10zm4 0h-2v-4h2v4z\"/>\n",
              "    </g>\n",
              "</svg>\n",
              "  </button>\n",
              "\n",
              "<style>\n",
              "  .colab-df-quickchart {\n",
              "      --bg-color: #E8F0FE;\n",
              "      --fill-color: #1967D2;\n",
              "      --hover-bg-color: #E2EBFA;\n",
              "      --hover-fill-color: #174EA6;\n",
              "      --disabled-fill-color: #AAA;\n",
              "      --disabled-bg-color: #DDD;\n",
              "  }\n",
              "\n",
              "  [theme=dark] .colab-df-quickchart {\n",
              "      --bg-color: #3B4455;\n",
              "      --fill-color: #D2E3FC;\n",
              "      --hover-bg-color: #434B5C;\n",
              "      --hover-fill-color: #FFFFFF;\n",
              "      --disabled-bg-color: #3B4455;\n",
              "      --disabled-fill-color: #666;\n",
              "  }\n",
              "\n",
              "  .colab-df-quickchart {\n",
              "    background-color: var(--bg-color);\n",
              "    border: none;\n",
              "    border-radius: 50%;\n",
              "    cursor: pointer;\n",
              "    display: none;\n",
              "    fill: var(--fill-color);\n",
              "    height: 32px;\n",
              "    padding: 0;\n",
              "    width: 32px;\n",
              "  }\n",
              "\n",
              "  .colab-df-quickchart:hover {\n",
              "    background-color: var(--hover-bg-color);\n",
              "    box-shadow: 0 1px 2px rgba(60, 64, 67, 0.3), 0 1px 3px 1px rgba(60, 64, 67, 0.15);\n",
              "    fill: var(--button-hover-fill-color);\n",
              "  }\n",
              "\n",
              "  .colab-df-quickchart-complete:disabled,\n",
              "  .colab-df-quickchart-complete:disabled:hover {\n",
              "    background-color: var(--disabled-bg-color);\n",
              "    fill: var(--disabled-fill-color);\n",
              "    box-shadow: none;\n",
              "  }\n",
              "\n",
              "  .colab-df-spinner {\n",
              "    border: 2px solid var(--fill-color);\n",
              "    border-color: transparent;\n",
              "    border-bottom-color: var(--fill-color);\n",
              "    animation:\n",
              "      spin 1s steps(1) infinite;\n",
              "  }\n",
              "\n",
              "  @keyframes spin {\n",
              "    0% {\n",
              "      border-color: transparent;\n",
              "      border-bottom-color: var(--fill-color);\n",
              "      border-left-color: var(--fill-color);\n",
              "    }\n",
              "    20% {\n",
              "      border-color: transparent;\n",
              "      border-left-color: var(--fill-color);\n",
              "      border-top-color: var(--fill-color);\n",
              "    }\n",
              "    30% {\n",
              "      border-color: transparent;\n",
              "      border-left-color: var(--fill-color);\n",
              "      border-top-color: var(--fill-color);\n",
              "      border-right-color: var(--fill-color);\n",
              "    }\n",
              "    40% {\n",
              "      border-color: transparent;\n",
              "      border-right-color: var(--fill-color);\n",
              "      border-top-color: var(--fill-color);\n",
              "    }\n",
              "    60% {\n",
              "      border-color: transparent;\n",
              "      border-right-color: var(--fill-color);\n",
              "    }\n",
              "    80% {\n",
              "      border-color: transparent;\n",
              "      border-right-color: var(--fill-color);\n",
              "      border-bottom-color: var(--fill-color);\n",
              "    }\n",
              "    90% {\n",
              "      border-color: transparent;\n",
              "      border-bottom-color: var(--fill-color);\n",
              "    }\n",
              "  }\n",
              "</style>\n",
              "\n",
              "  <script>\n",
              "    async function quickchart(key) {\n",
              "      const quickchartButtonEl =\n",
              "        document.querySelector('#' + key + ' button');\n",
              "      quickchartButtonEl.disabled = true;  // To prevent multiple clicks.\n",
              "      quickchartButtonEl.classList.add('colab-df-spinner');\n",
              "      try {\n",
              "        const charts = await google.colab.kernel.invokeFunction(\n",
              "            'suggestCharts', [key], {});\n",
              "      } catch (error) {\n",
              "        console.error('Error during call to suggestCharts:', error);\n",
              "      }\n",
              "      quickchartButtonEl.classList.remove('colab-df-spinner');\n",
              "      quickchartButtonEl.classList.add('colab-df-quickchart-complete');\n",
              "    }\n",
              "    (() => {\n",
              "      let quickchartButtonEl =\n",
              "        document.querySelector('#df-c18f9729-8aae-4a3b-b43e-68272c67daf0 button');\n",
              "      quickchartButtonEl.style.display =\n",
              "        google.colab.kernel.accessAllowed ? 'block' : 'none';\n",
              "    })();\n",
              "  </script>\n",
              "</div>\n",
              "\n",
              "    </div>\n",
              "  </div>\n"
            ],
            "text/plain": [
              "                 id  MonsoonIntensity  TopographyDrainage  RiverManagement  \\\n",
              "count  1.117957e+06      1.117957e+06        1.117957e+06     1.117957e+06   \n",
              "mean   5.589780e+05      4.921450e+00        4.926671e+00     4.955322e+00   \n",
              "std    3.227265e+05      2.056387e+00        2.093879e+00     2.072186e+00   \n",
              "min    0.000000e+00      0.000000e+00        0.000000e+00     0.000000e+00   \n",
              "25%    2.794890e+05      3.000000e+00        3.000000e+00     4.000000e+00   \n",
              "50%    5.589780e+05      5.000000e+00        5.000000e+00     5.000000e+00   \n",
              "75%    8.384670e+05      6.000000e+00        6.000000e+00     6.000000e+00   \n",
              "max    1.117956e+06      1.600000e+01        1.800000e+01     1.600000e+01   \n",
              "\n",
              "       Deforestation  Urbanization  ClimateChange   DamsQuality     Siltation  \\\n",
              "count   1.117957e+06  1.117957e+06   1.117957e+06  1.117957e+06  1.117957e+06   \n",
              "mean    4.942240e+00  4.942517e+00   4.934093e+00  4.955878e+00  4.927791e+00   \n",
              "std     2.051689e+00  2.083391e+00   2.057742e+00  2.083063e+00  2.065992e+00   \n",
              "min     0.000000e+00  0.000000e+00   0.000000e+00  0.000000e+00  0.000000e+00   \n",
              "25%     4.000000e+00  3.000000e+00   3.000000e+00  4.000000e+00  3.000000e+00   \n",
              "50%     5.000000e+00  5.000000e+00   5.000000e+00  5.000000e+00  5.000000e+00   \n",
              "75%     6.000000e+00  6.000000e+00   6.000000e+00  6.000000e+00  6.000000e+00   \n",
              "max     1.700000e+01  1.700000e+01   1.700000e+01  1.600000e+01  1.600000e+01   \n",
              "\n",
              "       AgriculturalPractices  ...  DrainageSystems  CoastalVulnerability  \\\n",
              "count           1.117957e+06  ...     1.117957e+06          1.117957e+06   \n",
              "mean            4.942619e+00  ...     4.946893e+00          4.953999e+00   \n",
              "std             2.068545e+00  ...     2.072333e+00          2.088899e+00   \n",
              "min             0.000000e+00  ...     0.000000e+00          0.000000e+00   \n",
              "25%             3.000000e+00  ...     4.000000e+00          3.000000e+00   \n",
              "50%             5.000000e+00  ...     5.000000e+00          5.000000e+00   \n",
              "75%             6.000000e+00  ...     6.000000e+00          6.000000e+00   \n",
              "max             1.600000e+01  ...     1.700000e+01          1.700000e+01   \n",
              "\n",
              "         Landslides    Watersheds  DeterioratingInfrastructure  \\\n",
              "count  1.117957e+06  1.117957e+06                 1.117957e+06   \n",
              "mean   4.931376e+00  4.929032e+00                 4.925907e+00   \n",
              "std    2.078287e+00  2.082395e+00                 2.064813e+00   \n",
              "min    0.000000e+00  0.000000e+00                 0.000000e+00   \n",
              "25%    3.000000e+00  3.000000e+00                 3.000000e+00   \n",
              "50%    5.000000e+00  5.000000e+00                 5.000000e+00   \n",
              "75%    6.000000e+00  6.000000e+00                 6.000000e+00   \n",
              "max    1.600000e+01  1.600000e+01                 1.700000e+01   \n",
              "\n",
              "       PopulationScore   WetlandLoss  InadequatePlanning  PoliticalFactors  \\\n",
              "count     1.117957e+06  1.117957e+06        1.117957e+06      1.117957e+06   \n",
              "mean      4.927520e+00  4.950859e+00        4.940587e+00      4.939004e+00   \n",
              "std       2.074176e+00  2.068696e+00        2.081123e+00      2.090350e+00   \n",
              "min       0.000000e+00  0.000000e+00        0.000000e+00      0.000000e+00   \n",
              "25%       3.000000e+00  4.000000e+00        3.000000e+00      3.000000e+00   \n",
              "50%       5.000000e+00  5.000000e+00        5.000000e+00      5.000000e+00   \n",
              "75%       6.000000e+00  6.000000e+00        6.000000e+00      6.000000e+00   \n",
              "max       1.800000e+01  1.900000e+01        1.600000e+01      1.600000e+01   \n",
              "\n",
              "       FloodProbability  \n",
              "count      1.117957e+06  \n",
              "mean       5.044803e-01  \n",
              "std        5.102610e-02  \n",
              "min        2.850000e-01  \n",
              "25%        4.700000e-01  \n",
              "50%        5.050000e-01  \n",
              "75%        5.400000e-01  \n",
              "max        7.250000e-01  \n",
              "\n",
              "[8 rows x 22 columns]"
            ]
          },
          "execution_count": 9,
          "metadata": {},
          "output_type": "execute_result"
        }
      ],
      "source": [
        "# Display summary statistics for the training dataset\n",
        "print(\"Training Data Summary Statistics:\")\n",
        "df_train.describe()"
      ]
    },
    {
      "cell_type": "markdown",
      "metadata": {
        "id": "2MmUQEZvG10F"
      },
      "source": [
        "### 2.1.3 Distribution Analysis of FloodProbability"
      ]
    },
    {
      "cell_type": "code",
      "execution_count": null,
      "metadata": {
        "colab": {
          "base_uri": "https://localhost:8080/"
        },
        "id": "yAwE_QBRHR8L",
        "outputId": "eed1d526-fd0d-4465-dc56-6235ab6a385d"
      },
      "outputs": [
        {
          "name": "stdout",
          "output_type": "stream",
          "text": [
            "Summary Statistics for FloodProbability:\n",
            "count    1.117957e+06\n",
            "mean     5.044803e-01\n",
            "std      5.102610e-02\n",
            "min      2.850000e-01\n",
            "25%      4.700000e-01\n",
            "50%      5.050000e-01\n",
            "75%      5.400000e-01\n",
            "max      7.250000e-01\n",
            "Name: FloodProbability, dtype: float64\n",
            "\n",
            "Skewness of FloodProbability: 0.04722558628639714\n",
            "Kurtosis of FloodProbability: -0.03960877966632603\n"
          ]
        }
      ],
      "source": [
        "# Describe the distribution of the target variable 'FloodProbability'\n",
        "flood_prob_stats = df_train['FloodProbability'].describe()\n",
        "\n",
        "# Calculate skewness and kurtosis for 'FloodProbability'\n",
        "flood_prob_skewness = df_train['FloodProbability'].skew()\n",
        "flood_prob_kurtosis = df_train['FloodProbability'].kurt()\n",
        "\n",
        "print(\"Summary Statistics for FloodProbability:\")\n",
        "print(flood_prob_stats)\n",
        "print(\"\\nSkewness of FloodProbability:\", flood_prob_skewness)\n",
        "print(\"Kurtosis of FloodProbability:\", flood_prob_kurtosis)\n"
      ]
    },
    {
      "cell_type": "markdown",
      "metadata": {
        "id": "zreHu9-yH4Xm"
      },
      "source": [
        "* Skewness: 0.047 (indicates a slight right skew)\n",
        "* Kurtosis: -0.040 (indicates a distribution close to normal but slightly flatter)"
      ]
    },
    {
      "cell_type": "markdown",
      "metadata": {
        "id": "YAup91ZEHTbl"
      },
      "source": [
        "### 2.1.6 Correlation Matrix Analysis"
      ]
    },
    {
      "cell_type": "code",
      "execution_count": null,
      "metadata": {
        "colab": {
          "base_uri": "https://localhost:8080/"
        },
        "id": "gYM9GqZkHaow",
        "outputId": "1fe565f9-d401-468a-da73-c0e03bbf84c7"
      },
      "outputs": [
        {
          "name": "stdout",
          "output_type": "stream",
          "text": [
            "Top 10 Most Positively Correlated Feature Pairs:\n",
            "FloodProbability             DeterioratingInfrastructure    0.190007\n",
            "DeterioratingInfrastructure  FloodProbability               0.190007\n",
            "MonsoonIntensity             FloodProbability               0.189098\n",
            "FloodProbability             MonsoonIntensity               0.189098\n",
            "                             DamsQuality                    0.187996\n",
            "DamsQuality                  FloodProbability               0.187996\n",
            "FloodProbability             TopographyDrainage             0.187635\n",
            "TopographyDrainage           FloodProbability               0.187635\n",
            "FloodProbability             RiverManagement                0.187131\n",
            "RiverManagement              FloodProbability               0.187131\n",
            "dtype: float64\n",
            "\n",
            "Top 10 Most Negatively Correlated Feature Pairs:\n",
            "CoastalVulnerability  Encroachments          -0.016203\n",
            "Encroachments         CoastalVulnerability   -0.016203\n",
            "Urbanization          CoastalVulnerability   -0.014497\n",
            "CoastalVulnerability  Urbanization           -0.014497\n",
            "InadequatePlanning    CoastalVulnerability   -0.014006\n",
            "CoastalVulnerability  InadequatePlanning     -0.014006\n",
            "Watersheds            Encroachments          -0.013542\n",
            "Encroachments         Watersheds             -0.013542\n",
            "CoastalVulnerability  DrainageSystems        -0.013467\n",
            "DrainageSystems       CoastalVulnerability   -0.013467\n",
            "dtype: float64\n"
          ]
        }
      ],
      "source": [
        "# Compute the correlation matrix\n",
        "correlation_matrix = df_train.corr()\n",
        "\n",
        "# testing\n",
        "\n",
        "# Extract the pairs of features with the highest correlation\n",
        "def get_top_correlations(corr_matrix, num_pairs=10):\n",
        "    corr_pairs = corr_matrix.unstack()\n",
        "    sorted_pairs = corr_pairs.sort_values(kind=\"quicksort\", ascending=False)\n",
        "    # Remove self-correlations\n",
        "    sorted_pairs = sorted_pairs[sorted_pairs < 1]\n",
        "    top_pairs = sorted_pairs[:num_pairs]\n",
        "    return top_pairs\n",
        "\n",
        "# Extract the pairs of features with the lowest (most negative) correlation\n",
        "def get_bottom_correlations(corr_matrix, num_pairs=10):\n",
        "    corr_pairs = corr_matrix.unstack()\n",
        "    sorted_pairs = corr_pairs.sort_values(kind=\"quicksort\", ascending=True)\n",
        "    # Remove self-correlations\n",
        "    sorted_pairs = sorted_pairs[sorted_pairs > -1]\n",
        "    bottom_pairs = sorted_pairs[:num_pairs]\n",
        "    return bottom_pairs\n",
        "\n",
        "# Get the top 10 most positively correlated pairs of features\n",
        "top_correlations = get_top_correlations(correlation_matrix, 10)\n",
        "print(\"Top 10 Most Positively Correlated Feature Pairs:\")\n",
        "print(top_correlations)\n",
        "\n",
        "# Get the top 10 most negatively correlated pairs of features\n",
        "bottom_correlations = get_bottom_correlations(correlation_matrix, 10)\n",
        "print(\"\\nTop 10 Most Negatively Correlated Feature Pairs:\")\n",
        "print(bottom_correlations)\n"
      ]
    },
    {
      "cell_type": "markdown",
      "metadata": {
        "id": "gk1eV6Q09w8G"
      },
      "source": [
        "## 2.2 Data Visualization"
      ]
    },
    {
      "cell_type": "markdown",
      "metadata": {
        "id": "oF1aBNA-Ejkz"
      },
      "source": [
        "### 2.2.1 Distribution of Target Variable"
      ]
    },
    {
      "cell_type": "code",
      "execution_count": null,
      "metadata": {
        "colab": {
          "base_uri": "https://localhost:8080/",
          "height": 564
        },
        "id": "BJ8DyR3CERfo",
        "outputId": "cbfa20f0-bf01-4f10-e572-a6fe29a04570"
      },
      "outputs": [
        {
          "data": {
            "image/png": "[encoded data removed]",
            "text/plain": [
              "<Figure size 1000x600 with 1 Axes>"
            ]
          },
          "metadata": {},
          "output_type": "display_data"
        }
      ],
      "source": [
        "import matplotlib.pyplot as plt\n",
        "import seaborn as sns\n",
        "\n",
        "# Plot the distribution of the target variable 'FloodProbability'\n",
        "plt.figure(figsize=(10, 6))\n",
        "sns.histplot(df_train['FloodProbability'], bins=50, kde=True)\n",
        "plt.title('Distribution of FloodProbability')\n",
        "plt.xlabel('FloodProbability')\n",
        "plt.ylabel('Frequency')\n",
        "plt.show()"
      ]
    },
    {
      "cell_type": "markdown",
      "metadata": {
        "id": "2PL-YEKmEkT9"
      },
      "source": [
        "### 2.2.2 Correlation Matrix and Heatmap"
      ]
    },
    {
      "cell_type": "code",
      "execution_count": null,
      "metadata": {
        "colab": {
          "base_uri": "https://localhost:8080/",
          "height": 1000
        },
        "id": "RYs1vGkKETl_",
        "outputId": "9bbcc27a-89a8-4c60-ad0c-70b128873d95"
      },
      "outputs": [
        {
          "data": {
            "image/png": "[encoded data removed]",
            "text/plain": [
              "<Figure size 1600x1200 with 2 Axes>"
            ]
          },
          "metadata": {},
          "output_type": "display_data"
        }
      ],
      "source": [
        "# Compute the correlation matrix\n",
        "correlation_matrix = df_train.corr()\n",
        "\n",
        "# Plot the heatmap of the correlation matrix\n",
        "plt.figure(figsize=(16, 12))\n",
        "sns.heatmap(correlation_matrix, annot=True, fmt='.2f', cmap='coolwarm')\n",
        "plt.title('Correlation Matrix Heatmap')\n",
        "plt.show()\n"
      ]
    },
    {
      "cell_type": "markdown",
      "metadata": {
        "id": "JpbVp4Qk9yJO"
      },
      "source": [
        "## 2.3 Feature Analysis"
      ]
    },
    {
      "cell_type": "markdown",
      "metadata": {
        "id": "Suwe8Kal90EA"
      },
      "source": [
        "### 2.3.1 Identifying Key Features"
      ]
    },
    {
      "cell_type": "code",
      "execution_count": null,
      "metadata": {
        "colab": {
          "base_uri": "https://localhost:8080/"
        },
        "id": "7Cj9G8HIEVZb",
        "outputId": "7e58f129-e106-41bc-b590-d86c81057f65"
      },
      "outputs": [
        {
          "name": "stdout",
          "output_type": "stream",
          "text": [
            "Top Features Correlated with FloodProbability:\n",
            "FloodProbability               1.000000\n",
            "DeterioratingInfrastructure    0.190007\n",
            "MonsoonIntensity               0.189098\n",
            "DamsQuality                    0.187996\n",
            "TopographyDrainage             0.187635\n",
            "RiverManagement                0.187131\n",
            "Siltation                      0.186789\n",
            "PopulationScore                0.185890\n",
            "Landslides                     0.185346\n",
            "ClimateChange                  0.184761\n",
            "Name: FloodProbability, dtype: float64\n"
          ]
        }
      ],
      "source": [
        "# Compute the correlation of all features with the target variable 'FloodProbability'\n",
        "target_correlation = correlation_matrix['FloodProbability'].sort_values(ascending=False)\n",
        "\n",
        "# Display features with the highest correlation to 'FloodProbability'\n",
        "print(\"Top Features Correlated with FloodProbability:\")\n",
        "print(target_correlation.head(10))\n"
      ]
    },
    {
      "cell_type": "markdown",
      "metadata": {
        "id": "0MngIgbf91C6"
      },
      "source": [
        "### 2.3.2 Identifying Redundant Features"
      ]
    },
    {
      "cell_type": "code",
      "execution_count": null,
      "metadata": {
        "colab": {
          "base_uri": "https://localhost:8080/"
        },
        "id": "V_voYfKhEqUN",
        "outputId": "f44e789d-38c0-4f25-8ec1-c4d0a6108b95"
      },
      "outputs": [
        {
          "name": "stdout",
          "output_type": "stream",
          "text": [
            "Redundant Features:\n",
            "set()\n"
          ]
        }
      ],
      "source": [
        "# Identify features that have a high correlation with each other\n",
        "threshold = 0.9  # Correlation threshold for identifying redundant features\n",
        "redundant_features = set()\n",
        "\n",
        "for i in range(len(correlation_matrix.columns)):\n",
        "    for j in range(i):\n",
        "        if abs(correlation_matrix.iloc[i, j]) > threshold:\n",
        "            colname = correlation_matrix.columns[i]\n",
        "            redundant_features.add(colname)\n",
        "\n",
        "print(\"Redundant Features:\")\n",
        "print(redundant_features)\n"
      ]
    },
    {
      "cell_type": "markdown",
      "metadata": {
        "id": "6fpuCJn79288"
      },
      "source": [
        "# Data Preprocessing"
      ]
    },
    {
      "cell_type": "markdown",
      "metadata": {
        "id": "vzEt9ZSR93eq"
      },
      "source": [
        "## 3.1 Handling Missing Values"
      ]
    },
    {
      "cell_type": "code",
      "execution_count": null,
      "metadata": {
        "colab": {
          "base_uri": "https://localhost:8080/"
        },
        "id": "pFckJcSjIfcO",
        "outputId": "188600ed-12f1-4f0c-c743-824a65dc04e5"
      },
      "outputs": [
        {
          "name": "stdout",
          "output_type": "stream",
          "text": [
            "Missing Values in Training Data:\n",
            " Series([], dtype: int64)\n",
            "\n",
            "Missing Values in Test Data:\n",
            " Series([], dtype: int64)\n"
          ]
        }
      ],
      "source": [
        "# Check for missing values in df_train\n",
        "missing_values_train = df_train.isnull().sum()\n",
        "print(\"Missing Values in Training Data:\\n\", missing_values_train[missing_values_train > 0])\n",
        "\n",
        "# Check for missing values in df_test\n",
        "missing_values_test = df_test.isnull().sum()\n",
        "print(\"\\nMissing Values in Test Data:\\n\", missing_values_test[missing_values_test > 0])\n"
      ]
    },
    {
      "cell_type": "markdown",
      "metadata": {
        "id": "ULGpiQMi94kQ"
      },
      "source": [
        "## 3.2 Handling Duplicate Data"
      ]
    },
    {
      "cell_type": "code",
      "execution_count": null,
      "metadata": {
        "colab": {
          "base_uri": "https://localhost:8080/"
        },
        "id": "ae7aMK_GIhoK",
        "outputId": "ec3c6860-2824-46e9-c037-e8f3b657ce6a"
      },
      "outputs": [
        {
          "name": "stdout",
          "output_type": "stream",
          "text": [
            "Number of duplicate rows in Training Data: 0\n",
            "Number of duplicate rows in Test Data: 0\n"
          ]
        }
      ],
      "source": [
        "# Check for duplicate rows in df_train\n",
        "duplicates_train = df_train.duplicated().sum()\n",
        "print(\"Number of duplicate rows in Training Data:\", duplicates_train)\n",
        "\n",
        "# Remove duplicate rows in df_train if any\n",
        "if duplicates_train > 0:\n",
        "    df_train = df_train.drop_duplicates()\n",
        "\n",
        "# Check for duplicate rows in df_test\n",
        "duplicates_test = df_test.duplicated().sum()\n",
        "print(\"Number of duplicate rows in Test Data:\", duplicates_test)\n",
        "\n",
        "# Remove duplicate rows in df_test if any\n",
        "if duplicates_test > 0:\n",
        "    df_test = df_test.drop_duplicates()\n"
      ]
    },
    {
      "cell_type": "markdown",
      "metadata": {
        "id": "rz796CqU96F6"
      },
      "source": [
        "## 3.3 Feature Engineering"
      ]
    },
    {
      "cell_type": "markdown",
      "metadata": {
        "id": "UjzjhT8R97l5"
      },
      "source": [
        "### 3.3.1 Creating New Features"
      ]
    },
    {
      "cell_type": "code",
      "execution_count": null,
      "metadata": {
        "id": "mtrh1GubIp-j"
      },
      "outputs": [],
      "source": [
        "# Creating interaction terms between highly correlated features\n",
        "df_train['Infra_Monsoon'] = df_train['DeterioratingInfrastructure'] * df_train['MonsoonIntensity']\n",
        "df_test['Infra_Monsoon'] = df_test['DeterioratingInfrastructure'] * df_test['MonsoonIntensity']\n",
        "\n",
        "# Creating polynomial features\n",
        "df_train['DamsQuality_squared'] = df_train['DamsQuality'] ** 2\n",
        "df_test['DamsQuality_squared'] = df_test['DamsQuality'] ** 2\n"
      ]
    },
    {
      "cell_type": "markdown",
      "metadata": {
        "id": "OPm3HmAv98cW"
      },
      "source": [
        "### 3.3.2 Feature Transformation"
      ]
    },
    {
      "cell_type": "code",
      "execution_count": null,
      "metadata": {
        "id": "dMuVFENwIs3f"
      },
      "outputs": [],
      "source": [
        "# Log transformation of skewed features\n",
        "skewed_features = ['MonsoonIntensity', 'TopographyDrainage']\n",
        "for feature in skewed_features:\n",
        "    df_train[feature + '_log'] = np.log1p(df_train[feature])\n",
        "    df_test[feature + '_log'] = np.log1p(df_test[feature])\n"
      ]
    },
    {
      "cell_type": "markdown",
      "metadata": {
        "id": "nprUSpgP99Z7"
      },
      "source": [
        "## 3.4 Data Normalization and Scaling"
      ]
    },
    {
      "cell_type": "code",
      "execution_count": null,
      "metadata": {
        "id": "GTxUHv2IIzUu"
      },
      "outputs": [],
      "source": [
        "from sklearn.preprocessing import StandardScaler\n",
        "\n",
        "# List of features to be scaled\n",
        "features_to_scale = ['DeterioratingInfrastructure', 'MonsoonIntensity', 'DamsQuality', 'TopographyDrainage', 'RiverManagement']\n",
        "\n",
        "scaler = StandardScaler()\n",
        "\n",
        "# Apply scaling to training data\n",
        "df_train[features_to_scale] = scaler.fit_transform(df_train[features_to_scale])\n",
        "\n",
        "# Apply the same scaling to test data\n",
        "df_test[features_to_scale] = scaler.transform(df_test[features_to_scale])\n"
      ]
    },
    {
      "cell_type": "markdown",
      "metadata": {
        "id": "H5uyBVJtYjHk"
      },
      "source": [
        "## 3.5 Train Test Split"
      ]
    },
    {
      "cell_type": "code",
      "execution_count": null,
      "metadata": {
        "id": "bEdHYultYitU"
      },
      "outputs": [],
      "source": [
        "from sklearn.model_selection import train_test_split\n",
        "\n",
        "X = df_train.drop(columns=['FloodProbability'])\n",
        "y = df_train['FloodProbability']\n",
        "\n",
        "X_train, X_test, y_train, y_test = train_test_split(X, y, test_size=0.2, random_state=42)\n"
      ]
    },
    {
      "cell_type": "markdown",
      "metadata": {
        "id": "EDSYp3Eo9_OM"
      },
      "source": [
        "# Model Selection and Training"
      ]
    },
    {
      "cell_type": "markdown",
      "metadata": {
        "id": "2Z7dJDGl-AgS"
      },
      "source": [
        "## 4.1 Model Selection"
      ]
    },
    {
      "cell_type": "markdown",
      "metadata": {
        "id": "hrkPgcM1-B93"
      },
      "source": [
        "### 4.1.1 Model Comparison"
      ]
    },
    {
      "cell_type": "code",
      "execution_count": null,
      "metadata": {
        "colab": {
          "base_uri": "https://localhost:8080/"
        },
        "id": "h6v4vwOuKiSw",
        "outputId": "075d2f8d-600f-4667-c577-b2e58f7180ec"
      },
      "outputs": [
        {
          "name": "stdout",
          "output_type": "stream",
          "text": [
            "Collecting catboost\n",
            "  Downloading catboost-1.2.5-cp310-cp310-manylinux2014_x86_64.whl (98.2 MB)\n",
            "\u001b[2K     \u001b[90m━━━━━━━━━━━━━━━━━━━━━━━━━━━━━━━━━━━━━━━━\u001b[0m \u001b[32m98.2/98.2 MB\u001b[0m \u001b[31m9.4 MB/s\u001b[0m eta \u001b[36m0:00:00\u001b[0m\n",
            "\u001b[?25hRequirement already satisfied: graphviz in /usr/local/lib/python3.10/dist-packages (from catboost) (0.20.3)\n",
            "Requirement already satisfied: matplotlib in /usr/local/lib/python3.10/dist-packages (from catboost) (3.7.1)\n",
            "Requirement already satisfied: numpy>=1.16.0 in /usr/local/lib/python3.10/dist-packages (from catboost) (1.25.2)\n",
            "Requirement already satisfied: pandas>=0.24 in /usr/local/lib/python3.10/dist-packages (from catboost) (2.0.3)\n",
            "Requirement already satisfied: scipy in /usr/local/lib/python3.10/dist-packages (from catboost) (1.11.4)\n",
            "Requirement already satisfied: plotly in /usr/local/lib/python3.10/dist-packages (from catboost) (5.15.0)\n",
            "Requirement already satisfied: six in /usr/local/lib/python3.10/dist-packages (from catboost) (1.16.0)\n",
            "Requirement already satisfied: python-dateutil>=2.8.2 in /usr/local/lib/python3.10/dist-packages (from pandas>=0.24->catboost) (2.8.2)\n",
            "Requirement already satisfied: pytz>=2020.1 in /usr/local/lib/python3.10/dist-packages (from pandas>=0.24->catboost) (2023.4)\n",
            "Requirement already satisfied: tzdata>=2022.1 in /usr/local/lib/python3.10/dist-packages (from pandas>=0.24->catboost) (2024.1)\n",
            "Requirement already satisfied: contourpy>=1.0.1 in /usr/local/lib/python3.10/dist-packages (from matplotlib->catboost) (1.2.1)\n",
            "Requirement already satisfied: cycler>=0.10 in /usr/local/lib/python3.10/dist-packages (from matplotlib->catboost) (0.12.1)\n",
            "Requirement already satisfied: fonttools>=4.22.0 in /usr/local/lib/python3.10/dist-packages (from matplotlib->catboost) (4.53.0)\n",
            "Requirement already satisfied: kiwisolver>=1.0.1 in /usr/local/lib/python3.10/dist-packages (from matplotlib->catboost) (1.4.5)\n",
            "Requirement already satisfied: packaging>=20.0 in /usr/local/lib/python3.10/dist-packages (from matplotlib->catboost) (24.1)\n",
            "Requirement already satisfied: pillow>=6.2.0 in /usr/local/lib/python3.10/dist-packages (from matplotlib->catboost) (9.4.0)\n",
            "Requirement already satisfied: pyparsing>=2.3.1 in /usr/local/lib/python3.10/dist-packages (from matplotlib->catboost) (3.1.2)\n",
            "Requirement already satisfied: tenacity>=6.2.0 in /usr/local/lib/python3.10/dist-packages (from plotly->catboost) (8.4.1)\n",
            "Installing collected packages: catboost\n",
            "Successfully installed catboost-1.2.5\n"
          ]
        }
      ],
      "source": [
        "!pip install catboost"
      ]
    },
    {
      "cell_type": "code",
      "execution_count": null,
      "metadata": {
        "colab": {
          "base_uri": "https://localhost:8080/"
        },
        "id": "AlnD_1KwKYGj",
        "outputId": "cd54a4f5-e143-4f45-ec2f-30c258ad1ab2"
      },
      "outputs": [
        {
          "name": "stdout",
          "output_type": "stream",
          "text": [
            "Training LightGBM...\n",
            "[LightGBM] [Info] Auto-choosing row-wise multi-threading, the overhead of testing was 0.062936 seconds.\n",
            "You can set `force_row_wise=true` to remove the overhead.\n",
            "And if memory is not enough, you can set `force_col_wise=true`.\n",
            "[LightGBM] [Info] Total Bins 737\n",
            "[LightGBM] [Info] Number of data points in the train set: 894365, number of used features: 25\n",
            "[LightGBM] [Info] Start training from score 0.504471\n",
            "[LightGBM] [Info] Auto-choosing col-wise multi-threading, the overhead of testing was 0.358402 seconds.\n",
            "You can set `force_col_wise=true` to remove the overhead.\n",
            "[LightGBM] [Info] Total Bins 735\n",
            "[LightGBM] [Info] Number of data points in the train set: 894365, number of used features: 25\n",
            "[LightGBM] [Info] Start training from score 0.504463\n",
            "[LightGBM] [Info] Auto-choosing col-wise multi-threading, the overhead of testing was 0.217908 seconds.\n",
            "You can set `force_col_wise=true` to remove the overhead.\n",
            "[LightGBM] [Info] Total Bins 736\n",
            "[LightGBM] [Info] Number of data points in the train set: 894366, number of used features: 25\n",
            "[LightGBM] [Info] Start training from score 0.504470\n",
            "[LightGBM] [Info] Auto-choosing col-wise multi-threading, the overhead of testing was 0.365589 seconds.\n",
            "You can set `force_col_wise=true` to remove the overhead.\n",
            "[LightGBM] [Info] Total Bins 734\n",
            "[LightGBM] [Info] Number of data points in the train set: 894366, number of used features: 25\n",
            "[LightGBM] [Info] Start training from score 0.504528\n",
            "[LightGBM] [Info] Auto-choosing row-wise multi-threading, the overhead of testing was 0.062276 seconds.\n",
            "You can set `force_row_wise=true` to remove the overhead.\n",
            "And if memory is not enough, you can set `force_col_wise=true`.\n",
            "[LightGBM] [Info] Total Bins 734\n",
            "[LightGBM] [Info] Number of data points in the train set: 894366, number of used features: 25\n",
            "[LightGBM] [Info] Start training from score 0.504469\n",
            "LightGBM RMSE: 0.0243 +/- 0.0000\n",
            "Training XGBoost...\n",
            "XGBoost RMSE: 0.0222 +/- 0.0001\n",
            "Training CatBoost...\n",
            "CatBoost RMSE: 0.0200 +/- 0.0000\n"
          ]
        }
      ],
      "source": [
        "from lightgbm import LGBMRegressor\n",
        "from xgboost import XGBRegressor\n",
        "from catboost import CatBoostRegressor\n",
        "from sklearn.metrics import mean_squared_error\n",
        "from sklearn.model_selection import cross_val_score\n",
        "\n",
        "# Initialize models\n",
        "models = [\n",
        "    ('LightGBM', LGBMRegressor()),\n",
        "    ('XGBoost', XGBRegressor()),\n",
        "    ('CatBoost', CatBoostRegressor(silent=True))  # silent=True untuk mengurangi output log CatBoost\n",
        "]\n",
        "\n",
        "# Compare models\n",
        "for name, model in models:\n",
        "    print(f\"Training {name}...\")\n",
        "    # Perform cross-validation\n",
        "    cv_scores = cross_val_score(model, df_train.drop(columns=['FloodProbability']), df_train['FloodProbability'],\n",
        "                                cv=5, scoring='neg_mean_squared_error')\n",
        "    rmse_scores = np.sqrt(-cv_scores)\n",
        "    # Print results\n",
        "    print(f\"{name} RMSE: {rmse_scores.mean():.4f} +/- {rmse_scores.std():.4f}\")\n",
        "\n"
      ]
    },
    {
      "cell_type": "markdown",
      "metadata": {
        "id": "MTN-XHyn-C7V"
      },
      "source": [
        "### 4.1.2 Justification for Selected Models"
      ]
    },
    {
      "cell_type": "markdown",
      "metadata": {
        "id": "A1Hdqq9O-D1I"
      },
      "source": [
        "## 4.2 Cross-Validation Strategy"
      ]
    },
    {
      "cell_type": "markdown",
      "metadata": {
        "id": "hR4WqQJE-FUs"
      },
      "source": [
        "### 4.2.1 K-Fold Cross-Validation"
      ]
    },
    {
      "cell_type": "code",
      "execution_count": null,
      "metadata": {
        "colab": {
          "base_uri": "https://localhost:8080/"
        },
        "id": "ERwnVy0xKZad",
        "outputId": "43ab1b9e-b709-4a0c-a9fa-a8693ad644ac"
      },
      "outputs": [
        {
          "name": "stdout",
          "output_type": "stream",
          "text": [
            "Fold 1\n",
            "[LightGBM] [Info] Auto-choosing col-wise multi-threading, the overhead of testing was 0.293966 seconds.\n",
            "You can set `force_col_wise=true` to remove the overhead.\n",
            "[LightGBM] [Info] Total Bins 733\n",
            "[LightGBM] [Info] Number of data points in the train set: 894365, number of used features: 25\n",
            "[LightGBM] [Info] Start training from score 0.504480\n",
            "Validation RMSE: 0.0243\n",
            "Fold 2\n",
            "[LightGBM] [Info] Auto-choosing row-wise multi-threading, the overhead of testing was 0.063780 seconds.\n",
            "You can set `force_row_wise=true` to remove the overhead.\n",
            "And if memory is not enough, you can set `force_col_wise=true`.\n",
            "[LightGBM] [Info] Total Bins 737\n",
            "[LightGBM] [Info] Number of data points in the train set: 894365, number of used features: 25\n",
            "[LightGBM] [Info] Start training from score 0.504511\n",
            "Validation RMSE: 0.0244\n",
            "Fold 3\n",
            "[LightGBM] [Info] Auto-choosing col-wise multi-threading, the overhead of testing was 0.213307 seconds.\n",
            "You can set `force_col_wise=true` to remove the overhead.\n",
            "[LightGBM] [Info] Total Bins 736\n",
            "[LightGBM] [Info] Number of data points in the train set: 894366, number of used features: 25\n",
            "[LightGBM] [Info] Start training from score 0.504457\n",
            "Validation RMSE: 0.0243\n",
            "Fold 4\n",
            "[LightGBM] [Info] Auto-choosing row-wise multi-threading, the overhead of testing was 0.062822 seconds.\n",
            "You can set `force_row_wise=true` to remove the overhead.\n",
            "And if memory is not enough, you can set `force_col_wise=true`.\n",
            "[LightGBM] [Info] Total Bins 738\n",
            "[LightGBM] [Info] Number of data points in the train set: 894366, number of used features: 25\n",
            "[LightGBM] [Info] Start training from score 0.504482\n",
            "Validation RMSE: 0.0243\n",
            "Fold 5\n",
            "[LightGBM] [Info] Auto-choosing col-wise multi-threading, the overhead of testing was 0.211364 seconds.\n",
            "You can set `force_col_wise=true` to remove the overhead.\n",
            "[LightGBM] [Info] Total Bins 733\n",
            "[LightGBM] [Info] Number of data points in the train set: 894366, number of used features: 25\n",
            "[LightGBM] [Info] Start training from score 0.504471\n",
            "Validation RMSE: 0.0243\n"
          ]
        }
      ],
      "source": [
        "from sklearn.model_selection import KFold\n",
        "\n",
        "# Define K-Fold CV\n",
        "kf = KFold(n_splits=5, shuffle=True, random_state=42)\n",
        "\n",
        "# Example of using K-Fold CV for model evaluation (LightGBM)\n",
        "for fold, (train_idx, valid_idx) in enumerate(kf.split(df_train)):\n",
        "    print(f\"Fold {fold + 1}\")\n",
        "    train_data = df_train.iloc[train_idx]\n",
        "    valid_data = df_train.iloc[valid_idx]\n",
        "\n",
        "    model = LGBMRegressor()\n",
        "    model.fit(train_data.drop(columns=['FloodProbability']), train_data['FloodProbability'])\n",
        "\n",
        "    # Evaluate on validation set\n",
        "    predictions = model.predict(valid_data.drop(columns=['FloodProbability']))\n",
        "    rmse = np.sqrt(mean_squared_error(valid_data['FloodProbability'], predictions))\n",
        "    print(f\"Validation RMSE: {rmse:.4f}\")\n"
      ]
    },
    {
      "cell_type": "markdown",
      "metadata": {
        "id": "3dqk4xQu-Geh"
      },
      "source": [
        "### 4.2.2 Repeated K-Fold Cross-Validation"
      ]
    },
    {
      "cell_type": "code",
      "execution_count": null,
      "metadata": {
        "colab": {
          "base_uri": "https://localhost:8080/"
        },
        "id": "gpqp4n9MKajw",
        "outputId": "0c9f0f0a-7de2-48dd-ed89-75e98f6dce80"
      },
      "outputs": [
        {
          "name": "stdout",
          "output_type": "stream",
          "text": [
            "Fold 1\n",
            "Validation RMSE: 0.0222\n",
            "Fold 2\n",
            "Validation RMSE: 0.0222\n",
            "Fold 3\n",
            "Validation RMSE: 0.0222\n",
            "Fold 4\n",
            "Validation RMSE: 0.0222\n",
            "Fold 5\n",
            "Validation RMSE: 0.0222\n",
            "Fold 6\n",
            "Validation RMSE: 0.0221\n",
            "Fold 7\n",
            "Validation RMSE: 0.0222\n",
            "Fold 8\n",
            "Validation RMSE: 0.0221\n",
            "Fold 9\n",
            "Validation RMSE: 0.0222\n",
            "Fold 10\n",
            "Validation RMSE: 0.0221\n",
            "Fold 11\n",
            "Validation RMSE: 0.0222\n",
            "Fold 12\n",
            "Validation RMSE: 0.0222\n",
            "Fold 13\n",
            "Validation RMSE: 0.0222\n",
            "Fold 14\n",
            "Validation RMSE: 0.0223\n",
            "Fold 15\n",
            "Validation RMSE: 0.0222\n"
          ]
        }
      ],
      "source": [
        "from sklearn.model_selection import RepeatedKFold\n",
        "\n",
        "# Define Repeated K-Fold CV\n",
        "rkf = RepeatedKFold(n_splits=5, n_repeats=3, random_state=42)\n",
        "\n",
        "# Example of using Repeated K-Fold CV for model evaluation (XGBoost)\n",
        "for fold, (train_idx, valid_idx) in enumerate(rkf.split(df_train)):\n",
        "    print(f\"Fold {fold + 1}\")\n",
        "    train_data = df_train.iloc[train_idx]\n",
        "    valid_data = df_train.iloc[valid_idx]\n",
        "\n",
        "    model = XGBRegressor()\n",
        "    model.fit(train_data.drop(columns=['FloodProbability']), train_data['FloodProbability'])\n",
        "\n",
        "    # Evaluate on validation set\n",
        "    predictions = model.predict(valid_data.drop(columns=['FloodProbability']))\n",
        "    rmse = np.sqrt(mean_squared_error(valid_data['FloodProbability'], predictions))\n",
        "    print(f\"Validation RMSE: {rmse:.4f}\")\n"
      ]
    },
    {
      "cell_type": "markdown",
      "metadata": {
        "id": "nAZgBc1E-HqA"
      },
      "source": [
        "## 4.3 Training Individual Models"
      ]
    },
    {
      "cell_type": "markdown",
      "metadata": {
        "id": "3S-M0Cqq-Itp"
      },
      "source": [
        "### 4.3.1 LightGBM"
      ]
    },
    {
      "cell_type": "code",
      "execution_count": null,
      "metadata": {
        "colab": {
          "base_uri": "https://localhost:8080/",
          "height": 162
        },
        "id": "CHwRZAKPKcWy",
        "outputId": "4a0d6045-e959-45e3-c4e4-1eb890de9138"
      },
      "outputs": [
        {
          "name": "stdout",
          "output_type": "stream",
          "text": [
            "[LightGBM] [Info] Auto-choosing col-wise multi-threading, the overhead of testing was 0.223501 seconds.\n",
            "You can set `force_col_wise=true` to remove the overhead.\n",
            "[LightGBM] [Info] Total Bins 739\n",
            "[LightGBM] [Info] Number of data points in the train set: 894365, number of used features: 25\n",
            "[LightGBM] [Info] Start training from score 0.504480\n"
          ]
        },
        {
          "data": {
            "text/html": [
              "<style>#sk-container-id-1 {color: black;background-color: white;}#sk-container-id-1 pre{padding: 0;}#sk-container-id-1 div.sk-toggleable {background-color: white;}#sk-container-id-1 label.sk-toggleable__label {cursor: pointer;display: block;width: 100%;margin-bottom: 0;padding: 0.3em;box-sizing: border-box;text-align: center;}#sk-container-id-1 label.sk-toggleable__label-arrow:before {content: \"▸\";float: left;margin-right: 0.25em;color: #696969;}#sk-container-id-1 label.sk-toggleable__label-arrow:hover:before {color: black;}#sk-container-id-1 div.sk-estimator:hover label.sk-toggleable__label-arrow:before {color: black;}#sk-container-id-1 div.sk-toggleable__content {max-height: 0;max-width: 0;overflow: hidden;text-align: left;background-color: #f0f8ff;}#sk-container-id-1 div.sk-toggleable__content pre {margin: 0.2em;color: black;border-radius: 0.25em;background-color: #f0f8ff;}#sk-container-id-1 input.sk-toggleable__control:checked~div.sk-toggleable__content {max-height: 200px;max-width: 100%;overflow: auto;}#sk-container-id-1 input.sk-toggleable__control:checked~label.sk-toggleable__label-arrow:before {content: \"▾\";}#sk-container-id-1 div.sk-estimator input.sk-toggleable__control:checked~label.sk-toggleable__label {background-color: #d4ebff;}#sk-container-id-1 div.sk-label input.sk-toggleable__control:checked~label.sk-toggleable__label {background-color: #d4ebff;}#sk-container-id-1 input.sk-hidden--visually {border: 0;clip: rect(1px 1px 1px 1px);clip: rect(1px, 1px, 1px, 1px);height: 1px;margin: -1px;overflow: hidden;padding: 0;position: absolute;width: 1px;}#sk-container-id-1 div.sk-estimator {font-family: monospace;background-color: #f0f8ff;border: 1px dotted black;border-radius: 0.25em;box-sizing: border-box;margin-bottom: 0.5em;}#sk-container-id-1 div.sk-estimator:hover {background-color: #d4ebff;}#sk-container-id-1 div.sk-parallel-item::after {content: \"\";width: 100%;border-bottom: 1px solid gray;flex-grow: 1;}#sk-container-id-1 div.sk-label:hover label.sk-toggleable__label {background-color: #d4ebff;}#sk-container-id-1 div.sk-serial::before {content: \"\";position: absolute;border-left: 1px solid gray;box-sizing: border-box;top: 0;bottom: 0;left: 50%;z-index: 0;}#sk-container-id-1 div.sk-serial {display: flex;flex-direction: column;align-items: center;background-color: white;padding-right: 0.2em;padding-left: 0.2em;position: relative;}#sk-container-id-1 div.sk-item {position: relative;z-index: 1;}#sk-container-id-1 div.sk-parallel {display: flex;align-items: stretch;justify-content: center;background-color: white;position: relative;}#sk-container-id-1 div.sk-item::before, #sk-container-id-1 div.sk-parallel-item::before {content: \"\";position: absolute;border-left: 1px solid gray;box-sizing: border-box;top: 0;bottom: 0;left: 50%;z-index: -1;}#sk-container-id-1 div.sk-parallel-item {display: flex;flex-direction: column;z-index: 1;position: relative;background-color: white;}#sk-container-id-1 div.sk-parallel-item:first-child::after {align-self: flex-end;width: 50%;}#sk-container-id-1 div.sk-parallel-item:last-child::after {align-self: flex-start;width: 50%;}#sk-container-id-1 div.sk-parallel-item:only-child::after {width: 0;}#sk-container-id-1 div.sk-dashed-wrapped {border: 1px dashed gray;margin: 0 0.4em 0.5em 0.4em;box-sizing: border-box;padding-bottom: 0.4em;background-color: white;}#sk-container-id-1 div.sk-label label {font-family: monospace;font-weight: bold;display: inline-block;line-height: 1.2em;}#sk-container-id-1 div.sk-label-container {text-align: center;}#sk-container-id-1 div.sk-container {/* jupyter's `normalize.less` sets `[hidden] { display: none; }` but bootstrap.min.css set `[hidden] { display: none !important; }` so we also need the `!important` here to be able to override the default hidden behavior on the sphinx rendered scikit-learn.org. See: https://github.com/scikit-learn/scikit-learn/issues/21755 */display: inline-block !important;position: relative;}#sk-container-id-1 div.sk-text-repr-fallback {display: none;}</style><div id=\"sk-container-id-1\" class=\"sk-top-container\"><div class=\"sk-text-repr-fallback\"><pre>LGBMRegressor()</pre><b>In a Jupyter environment, please rerun this cell to show the HTML representation or trust the notebook. <br />On GitHub, the HTML representation is unable to render, please try loading this page with nbviewer.org.</b></div><div class=\"sk-container\" hidden><div class=\"sk-item\"><div class=\"sk-estimator sk-toggleable\"><input class=\"sk-toggleable__control sk-hidden--visually\" id=\"sk-estimator-id-1\" type=\"checkbox\" checked><label for=\"sk-estimator-id-1\" class=\"sk-toggleable__label sk-toggleable__label-arrow\">LGBMRegressor</label><div class=\"sk-toggleable__content\"><pre>LGBMRegressor()</pre></div></div></div></div></div>"
            ],
            "text/plain": [
              "LGBMRegressor()"
            ]
          },
          "execution_count": 26,
          "metadata": {},
          "output_type": "execute_result"
        }
      ],
      "source": [
        "# Training LightGBM on the entire training set\n",
        "lgbm_model = LGBMRegressor()\n",
        "lgbm_model.fit(X_train, y_train)"
      ]
    },
    {
      "cell_type": "markdown",
      "metadata": {
        "id": "dVsGYTdX-KOa"
      },
      "source": [
        "### 4.3.2 XGBoost"
      ]
    },
    {
      "cell_type": "code",
      "execution_count": null,
      "metadata": {
        "colab": {
          "base_uri": "https://localhost:8080/",
          "height": 249
        },
        "id": "D_RyHTIxKdJC",
        "outputId": "373c7df8-6619-4ff5-f43c-c86910ba816e"
      },
      "outputs": [
        {
          "data": {
            "text/html": [
              "<style>#sk-container-id-2 {color: black;background-color: white;}#sk-container-id-2 pre{padding: 0;}#sk-container-id-2 div.sk-toggleable {background-color: white;}#sk-container-id-2 label.sk-toggleable__label {cursor: pointer;display: block;width: 100%;margin-bottom: 0;padding: 0.3em;box-sizing: border-box;text-align: center;}#sk-container-id-2 label.sk-toggleable__label-arrow:before {content: \"▸\";float: left;margin-right: 0.25em;color: #696969;}#sk-container-id-2 label.sk-toggleable__label-arrow:hover:before {color: black;}#sk-container-id-2 div.sk-estimator:hover label.sk-toggleable__label-arrow:before {color: black;}#sk-container-id-2 div.sk-toggleable__content {max-height: 0;max-width: 0;overflow: hidden;text-align: left;background-color: #f0f8ff;}#sk-container-id-2 div.sk-toggleable__content pre {margin: 0.2em;color: black;border-radius: 0.25em;background-color: #f0f8ff;}#sk-container-id-2 input.sk-toggleable__control:checked~div.sk-toggleable__content {max-height: 200px;max-width: 100%;overflow: auto;}#sk-container-id-2 input.sk-toggleable__control:checked~label.sk-toggleable__label-arrow:before {content: \"▾\";}#sk-container-id-2 div.sk-estimator input.sk-toggleable__control:checked~label.sk-toggleable__label {background-color: #d4ebff;}#sk-container-id-2 div.sk-label input.sk-toggleable__control:checked~label.sk-toggleable__label {background-color: #d4ebff;}#sk-container-id-2 input.sk-hidden--visually {border: 0;clip: rect(1px 1px 1px 1px);clip: rect(1px, 1px, 1px, 1px);height: 1px;margin: -1px;overflow: hidden;padding: 0;position: absolute;width: 1px;}#sk-container-id-2 div.sk-estimator {font-family: monospace;background-color: #f0f8ff;border: 1px dotted black;border-radius: 0.25em;box-sizing: border-box;margin-bottom: 0.5em;}#sk-container-id-2 div.sk-estimator:hover {background-color: #d4ebff;}#sk-container-id-2 div.sk-parallel-item::after {content: \"\";width: 100%;border-bottom: 1px solid gray;flex-grow: 1;}#sk-container-id-2 div.sk-label:hover label.sk-toggleable__label {background-color: #d4ebff;}#sk-container-id-2 div.sk-serial::before {content: \"\";position: absolute;border-left: 1px solid gray;box-sizing: border-box;top: 0;bottom: 0;left: 50%;z-index: 0;}#sk-container-id-2 div.sk-serial {display: flex;flex-direction: column;align-items: center;background-color: white;padding-right: 0.2em;padding-left: 0.2em;position: relative;}#sk-container-id-2 div.sk-item {position: relative;z-index: 1;}#sk-container-id-2 div.sk-parallel {display: flex;align-items: stretch;justify-content: center;background-color: white;position: relative;}#sk-container-id-2 div.sk-item::before, #sk-container-id-2 div.sk-parallel-item::before {content: \"\";position: absolute;border-left: 1px solid gray;box-sizing: border-box;top: 0;bottom: 0;left: 50%;z-index: -1;}#sk-container-id-2 div.sk-parallel-item {display: flex;flex-direction: column;z-index: 1;position: relative;background-color: white;}#sk-container-id-2 div.sk-parallel-item:first-child::after {align-self: flex-end;width: 50%;}#sk-container-id-2 div.sk-parallel-item:last-child::after {align-self: flex-start;width: 50%;}#sk-container-id-2 div.sk-parallel-item:only-child::after {width: 0;}#sk-container-id-2 div.sk-dashed-wrapped {border: 1px dashed gray;margin: 0 0.4em 0.5em 0.4em;box-sizing: border-box;padding-bottom: 0.4em;background-color: white;}#sk-container-id-2 div.sk-label label {font-family: monospace;font-weight: bold;display: inline-block;line-height: 1.2em;}#sk-container-id-2 div.sk-label-container {text-align: center;}#sk-container-id-2 div.sk-container {/* jupyter's `normalize.less` sets `[hidden] { display: none; }` but bootstrap.min.css set `[hidden] { display: none !important; }` so we also need the `!important` here to be able to override the default hidden behavior on the sphinx rendered scikit-learn.org. See: https://github.com/scikit-learn/scikit-learn/issues/21755 */display: inline-block !important;position: relative;}#sk-container-id-2 div.sk-text-repr-fallback {display: none;}</style><div id=\"sk-container-id-2\" class=\"sk-top-container\"><div class=\"sk-text-repr-fallback\"><pre>XGBRegressor(base_score=None, booster=None, callbacks=None,\n",
              "             colsample_bylevel=None, colsample_bynode=None,\n",
              "             colsample_bytree=None, device=None, early_stopping_rounds=None,\n",
              "             enable_categorical=False, eval_metric=None, feature_types=None,\n",
              "             gamma=None, grow_policy=None, importance_type=None,\n",
              "             interaction_constraints=None, learning_rate=None, max_bin=None,\n",
              "             max_cat_threshold=None, max_cat_to_onehot=None,\n",
              "             max_delta_step=None, max_depth=None, max_leaves=None,\n",
              "             min_child_weight=None, missing=nan, monotone_constraints=None,\n",
              "             multi_strategy=None, n_estimators=None, n_jobs=None,\n",
              "             num_parallel_tree=None, random_state=None, ...)</pre><b>In a Jupyter environment, please rerun this cell to show the HTML representation or trust the notebook. <br />On GitHub, the HTML representation is unable to render, please try loading this page with nbviewer.org.</b></div><div class=\"sk-container\" hidden><div class=\"sk-item\"><div class=\"sk-estimator sk-toggleable\"><input class=\"sk-toggleable__control sk-hidden--visually\" id=\"sk-estimator-id-2\" type=\"checkbox\" checked><label for=\"sk-estimator-id-2\" class=\"sk-toggleable__label sk-toggleable__label-arrow\">XGBRegressor</label><div class=\"sk-toggleable__content\"><pre>XGBRegressor(base_score=None, booster=None, callbacks=None,\n",
              "             colsample_bylevel=None, colsample_bynode=None,\n",
              "             colsample_bytree=None, device=None, early_stopping_rounds=None,\n",
              "             enable_categorical=False, eval_metric=None, feature_types=None,\n",
              "             gamma=None, grow_policy=None, importance_type=None,\n",
              "             interaction_constraints=None, learning_rate=None, max_bin=None,\n",
              "             max_cat_threshold=None, max_cat_to_onehot=None,\n",
              "             max_delta_step=None, max_depth=None, max_leaves=None,\n",
              "             min_child_weight=None, missing=nan, monotone_constraints=None,\n",
              "             multi_strategy=None, n_estimators=None, n_jobs=None,\n",
              "             num_parallel_tree=None, random_state=None, ...)</pre></div></div></div></div></div>"
            ],
            "text/plain": [
              "XGBRegressor(base_score=None, booster=None, callbacks=None,\n",
              "             colsample_bylevel=None, colsample_bynode=None,\n",
              "             colsample_bytree=None, device=None, early_stopping_rounds=None,\n",
              "             enable_categorical=False, eval_metric=None, feature_types=None,\n",
              "             gamma=None, grow_policy=None, importance_type=None,\n",
              "             interaction_constraints=None, learning_rate=None, max_bin=None,\n",
              "             max_cat_threshold=None, max_cat_to_onehot=None,\n",
              "             max_delta_step=None, max_depth=None, max_leaves=None,\n",
              "             min_child_weight=None, missing=nan, monotone_constraints=None,\n",
              "             multi_strategy=None, n_estimators=None, n_jobs=None,\n",
              "             num_parallel_tree=None, random_state=None, ...)"
            ]
          },
          "execution_count": 27,
          "metadata": {},
          "output_type": "execute_result"
        }
      ],
      "source": [
        "# Training XGBoost on the entire training set\n",
        "xgb_model = XGBRegressor()\n",
        "xgb_model.fit(X_train, y_train)\n"
      ]
    },
    {
      "cell_type": "markdown",
      "metadata": {
        "id": "qMicSoj7-LAr"
      },
      "source": [
        "### 4.3.3 CatBoost"
      ]
    },
    {
      "cell_type": "code",
      "execution_count": null,
      "metadata": {
        "colab": {
          "base_uri": "https://localhost:8080/"
        },
        "id": "7QeKqhkNKd5N",
        "outputId": "ed229721-b7b6-41e9-b2ba-908bb35967ed"
      },
      "outputs": [
        {
          "data": {
            "text/plain": [
              "<catboost.core.CatBoostRegressor at 0x7febf5da1270>"
            ]
          },
          "execution_count": 28,
          "metadata": {},
          "output_type": "execute_result"
        }
      ],
      "source": [
        "# Training CatBoost on the entire training set\n",
        "catboost_model = CatBoostRegressor(silent=True)\n",
        "catboost_model.fit(X_train, y_train)\n"
      ]
    },
    {
      "cell_type": "markdown",
      "metadata": {
        "id": "OwGpth6z-L2x"
      },
      "source": [
        "### 4.3.4 Additional Models (if any)"
      ]
    },
    {
      "cell_type": "markdown",
      "metadata": {
        "id": "zBylVEEL-M05"
      },
      "source": [
        "# Ensemble Learning"
      ]
    },
    {
      "cell_type": "markdown",
      "metadata": {
        "id": "FziEWPwj-NpP"
      },
      "source": [
        "## 5.1 Stacking Models"
      ]
    },
    {
      "cell_type": "code",
      "execution_count": null,
      "metadata": {
        "colab": {
          "base_uri": "https://localhost:8080/"
        },
        "id": "2IWaG4a8R_V-",
        "outputId": "33dc15e2-f784-43b2-f4bb-6def2c2adab8"
      },
      "outputs": [
        {
          "name": "stdout",
          "output_type": "stream",
          "text": [
            "[LightGBM] [Info] Auto-choosing col-wise multi-threading, the overhead of testing was 0.176637 seconds.\n",
            "You can set `force_col_wise=true` to remove the overhead.\n",
            "[LightGBM] [Info] Total Bins 736\n",
            "[LightGBM] [Info] Number of data points in the train set: 715492, number of used features: 25\n",
            "[LightGBM] [Info] Start training from score 0.504462\n",
            "[LightGBM] [Info] Auto-choosing col-wise multi-threading, the overhead of testing was 0.292687 seconds.\n",
            "You can set `force_col_wise=true` to remove the overhead.\n",
            "[LightGBM] [Info] Total Bins 737\n",
            "[LightGBM] [Info] Number of data points in the train set: 715492, number of used features: 25\n",
            "[LightGBM] [Info] Start training from score 0.504499\n",
            "[LightGBM] [Info] Auto-choosing col-wise multi-threading, the overhead of testing was 0.168109 seconds.\n",
            "You can set `force_col_wise=true` to remove the overhead.\n",
            "[LightGBM] [Info] Total Bins 735\n",
            "[LightGBM] [Info] Number of data points in the train set: 715492, number of used features: 25\n",
            "[LightGBM] [Info] Start training from score 0.504485\n",
            "[LightGBM] [Info] Auto-choosing col-wise multi-threading, the overhead of testing was 0.174500 seconds.\n",
            "You can set `force_col_wise=true` to remove the overhead.\n",
            "[LightGBM] [Info] Total Bins 737\n",
            "[LightGBM] [Info] Number of data points in the train set: 715492, number of used features: 25\n",
            "[LightGBM] [Info] Start training from score 0.504488\n",
            "[LightGBM] [Info] Auto-choosing col-wise multi-threading, the overhead of testing was 0.287659 seconds.\n",
            "You can set `force_col_wise=true` to remove the overhead.\n",
            "[LightGBM] [Info] Total Bins 735\n",
            "[LightGBM] [Info] Number of data points in the train set: 715492, number of used features: 25\n",
            "[LightGBM] [Info] Start training from score 0.504467\n"
          ]
        }
      ],
      "source": [
        "from sklearn.model_selection import KFold\n",
        "import numpy as np\n",
        "\n",
        "def get_out_of_fold_predictions(model, X_train, y_train, X_test, n_splits=5):\n",
        "    kf = KFold(n_splits=n_splits, shuffle=True, random_state=42)\n",
        "    oof_train = np.zeros((X_train.shape[0],))\n",
        "    oof_test = np.zeros((X_test.shape[0], n_splits))\n",
        "\n",
        "    for fold, (train_idx, valid_idx) in enumerate(kf.split(X_train)):\n",
        "        train_data = X_train.iloc[train_idx]\n",
        "        valid_data = X_train.iloc[valid_idx]\n",
        "\n",
        "        model.fit(train_data, y_train.iloc[train_idx])\n",
        "        oof_train[valid_idx] = model.predict(valid_data)\n",
        "        oof_test[:, fold] = model.predict(X_test)\n",
        "\n",
        "    return oof_train, oof_test.mean(axis=1)\n",
        "\n",
        "# Example usage for stacking\n",
        "# Assuming you have trained models like lgbm_model, xgb_model, catboost_model\n",
        "# and X_train, y_train, X_test are your dataframes/arrays\n",
        "\n",
        "# Generate out-of-fold predictions for each model\n",
        "lgbm_oof_train, lgbm_oof_test = get_out_of_fold_predictions(lgbm_model, X_train, y_train, X_test)\n",
        "xgb_oof_train, xgb_oof_test = get_out_of_fold_predictions(xgb_model, X_train, y_train, X_test)\n",
        "catboost_oof_train, catboost_oof_test = get_out_of_fold_predictions(catboost_model, X_train, y_train, X_test)\n"
      ]
    },
    {
      "cell_type": "markdown",
      "metadata": {
        "id": "aCRT0twC-Pds"
      },
      "source": [
        "### 5.1.1 Generating Out-of-Fold Predictions"
      ]
    },
    {
      "cell_type": "code",
      "execution_count": null,
      "metadata": {
        "id": "2IMPNk-9SAkc"
      },
      "outputs": [],
      "source": [
        "# Create meta-features (features from the predictions of base models)\n",
        "meta_train = np.column_stack((lgbm_oof_train, xgb_oof_train, catboost_oof_train))\n",
        "meta_test = np.column_stack((lgbm_oof_test, xgb_oof_test, catboost_oof_test))\n"
      ]
    },
    {
      "cell_type": "markdown",
      "metadata": {
        "id": "sfmSuKIZ-Qf6"
      },
      "source": [
        "### 5.1.2 Creating Meta-Features"
      ]
    },
    {
      "cell_type": "markdown",
      "metadata": {
        "id": "0xhD79Cq-RUd"
      },
      "source": [
        "## 5.2 Blending Models"
      ]
    },
    {
      "cell_type": "code",
      "execution_count": null,
      "metadata": {
        "id": "G4UzWVFnSBmS"
      },
      "outputs": [],
      "source": [
        "# Example of weighted averaging for blending\n",
        "blend_predictions = 0.4 * lgbm_oof_test + 0.3 * xgb_oof_test + 0.3 * catboost_oof_test\n"
      ]
    },
    {
      "cell_type": "markdown",
      "metadata": {
        "id": "0NqZRxq2-Skm"
      },
      "source": [
        "### 5.2.1 Weighted Averaging"
      ]
    },
    {
      "cell_type": "code",
      "execution_count": null,
      "metadata": {
        "id": "LtfcoavcSHMJ"
      },
      "outputs": [],
      "source": [
        "# Example of weighted averaging for blending\n",
        "blend_predictions = 0.4 * lgbm_oof_test + 0.3 * xgb_oof_test + 0.3 * catboost_oof_test\n"
      ]
    },
    {
      "cell_type": "markdown",
      "metadata": {
        "id": "ZVhUIt-k-TWC"
      },
      "source": [
        "## 5.3 Ridge Regression for Final Ensemble"
      ]
    },
    {
      "cell_type": "markdown",
      "metadata": {
        "id": "Cl_XZdAP-Ugp"
      },
      "source": [
        "### 5.3.1 Ridge Regression Theory"
      ]
    },
    {
      "cell_type": "markdown",
      "metadata": {
        "id": "vmPIEG45-Vah"
      },
      "source": [
        "### 5.3.2 Implementing Ridge Regression"
      ]
    },
    {
      "cell_type": "code",
      "execution_count": null,
      "metadata": {
        "colab": {
          "base_uri": "https://localhost:8080/"
        },
        "id": "UVcL7-GQSER6",
        "outputId": "f2b7c30e-bb9a-4643-d680-c2b6c7a517a8"
      },
      "outputs": [
        {
          "name": "stdout",
          "output_type": "stream",
          "text": [
            "Ridge Regression RMSE: 0.0200\n"
          ]
        }
      ],
      "source": [
        "from sklearn.linear_model import Ridge\n",
        "from sklearn.metrics import mean_squared_error\n",
        "\n",
        "# Initialize Ridge Regression\n",
        "ridge_model = Ridge(alpha=1.0)\n",
        "\n",
        "# Fit Ridge Regression on meta-features\n",
        "ridge_model.fit(meta_train, y_train)\n",
        "\n",
        "# Predict on meta-features for test set\n",
        "ridge_predictions = ridge_model.predict(meta_test)\n",
        "\n",
        "# Evaluate Ridge Regression\n",
        "ridge_rmse = np.sqrt(mean_squared_error(y_test, ridge_predictions))\n",
        "print(f\"Ridge Regression RMSE: {ridge_rmse:.4f}\")\n"
      ]
    },
    {
      "cell_type": "markdown",
      "metadata": {
        "id": "V46FfL-H-WKL"
      },
      "source": [
        "# Model Evaluation"
      ]
    },
    {
      "cell_type": "markdown",
      "metadata": {
        "id": "JccCBkoB-YWW"
      },
      "source": [
        "## 6.1 Evaluating Individual Models"
      ]
    },
    {
      "cell_type": "code",
      "execution_count": null,
      "metadata": {
        "colab": {
          "base_uri": "https://localhost:8080/"
        },
        "id": "4hA6ZzeaVkwI",
        "outputId": "db892f7b-3147-44d5-d3ef-e1ba76410c51"
      },
      "outputs": [
        {
          "name": "stdout",
          "output_type": "stream",
          "text": [
            "LightGBM RMSE: 0.0243\n"
          ]
        }
      ],
      "source": [
        "from sklearn.metrics import mean_squared_error\n",
        "\n",
        "# Example assuming lgbm_model is already trained and X_test, y_test are defined\n",
        "lgbm_predictions = lgbm_model.predict(X_test)\n",
        "lgbm_rmse = np.sqrt(mean_squared_error(y_test, lgbm_predictions))\n",
        "print(f\"LightGBM RMSE: {lgbm_rmse:.4f}\")\n"
      ]
    },
    {
      "cell_type": "code",
      "execution_count": null,
      "metadata": {
        "colab": {
          "base_uri": "https://localhost:8080/"
        },
        "id": "BY_gkeE3Vl8F",
        "outputId": "31395907-473f-4446-ea71-be3947425b02"
      },
      "outputs": [
        {
          "name": "stdout",
          "output_type": "stream",
          "text": [
            "XGBoost RMSE: 0.0223\n"
          ]
        }
      ],
      "source": [
        "# Example assuming xgb_model is already trained and X_test, y_test are defined\n",
        "xgb_predictions = xgb_model.predict(X_test)\n",
        "xgb_rmse = np.sqrt(mean_squared_error(y_test, xgb_predictions))\n",
        "print(f\"XGBoost RMSE: {xgb_rmse:.4f}\")\n"
      ]
    },
    {
      "cell_type": "code",
      "execution_count": null,
      "metadata": {
        "colab": {
          "base_uri": "https://localhost:8080/"
        },
        "id": "sbLnNa9ZVmPb",
        "outputId": "4e94cae3-2b45-4cc9-e90a-84778c66c413"
      },
      "outputs": [
        {
          "name": "stdout",
          "output_type": "stream",
          "text": [
            "CatBoost RMSE: 0.0200\n"
          ]
        }
      ],
      "source": [
        "# Example assuming catboost_model is already trained and X_test, y_test are defined\n",
        "catboost_predictions = catboost_model.predict(X_test)\n",
        "catboost_rmse = np.sqrt(mean_squared_error(y_test, catboost_predictions))\n",
        "print(f\"CatBoost RMSE: {catboost_rmse:.4f}\")\n"
      ]
    },
    {
      "cell_type": "markdown",
      "metadata": {
        "id": "aSiXlP0d-ZIj"
      },
      "source": [
        "## 6.2 Evaluating the Ensemble Model"
      ]
    },
    {
      "cell_type": "code",
      "execution_count": null,
      "metadata": {
        "colab": {
          "base_uri": "https://localhost:8080/"
        },
        "id": "8MUpjlXFVny3",
        "outputId": "5242959a-f891-4759-8092-750f176afaee"
      },
      "outputs": [
        {
          "name": "stdout",
          "output_type": "stream",
          "text": [
            "Ridge Regression RMSE: 0.0200\n"
          ]
        }
      ],
      "source": [
        "# Example assuming ridge_predictions is already calculated\n",
        "ridge_rmse = np.sqrt(mean_squared_error(y_test, ridge_predictions))\n",
        "print(f\"Ridge Regression RMSE: {ridge_rmse:.4f}\")\n"
      ]
    },
    {
      "cell_type": "markdown",
      "metadata": {
        "id": "-fqFfxDP-aTa"
      },
      "source": [
        "### 6.2.1 Validation Score Analysis"
      ]
    },
    {
      "cell_type": "code",
      "execution_count": null,
      "metadata": {
        "colab": {
          "base_uri": "https://localhost:8080/"
        },
        "id": "74_CxYz_V8wD",
        "outputId": "0732fd2f-d8b4-4754-9012-81c6a97a7a30"
      },
      "outputs": [
        {
          "name": "stdout",
          "output_type": "stream",
          "text": [
            "Ridge Regression RMSE: 0.0200\n"
          ]
        }
      ],
      "source": [
        "# Example assuming ridge_predictions is already calculated\n",
        "ridge_rmse = np.sqrt(mean_squared_error(y_test, ridge_predictions))\n",
        "print(f\"Ridge Regression RMSE: {ridge_rmse:.4f}\")\n"
      ]
    },
    {
      "cell_type": "markdown",
      "metadata": {
        "id": "L8AHl8H8-bGG"
      },
      "source": [
        "### 6.2.2 Public and Private Leaderboard Scores"
      ]
    },
    {
      "cell_type": "markdown",
      "metadata": {
        "id": "MTOb8B7O-cAR"
      },
      "source": [
        "## 6.3 Feature Importance Analysis"
      ]
    },
    {
      "cell_type": "markdown",
      "metadata": {
        "id": "v854ql5E-dfv"
      },
      "source": [
        "### 6.3.1 Permutation Feature Importance"
      ]
    },
    {
      "cell_type": "code",
      "execution_count": null,
      "metadata": {
        "colab": {
          "base_uri": "https://localhost:8080/",
          "height": 472
        },
        "id": "BxlKGqVgV-5u",
        "outputId": "55c6731d-a906-4ae7-fa85-d16e169c7f2c"
      },
      "outputs": [
        {
          "data": {
            "image/png": "[encoded data removed]",
            "text/plain": [
              "<Figure size 640x480 with 1 Axes>"
            ]
          },
          "metadata": {},
          "output_type": "display_data"
        }
      ],
      "source": [
        "from sklearn.inspection import permutation_importance\n",
        "\n",
        "# Example for LightGBM model\n",
        "perm_importance = permutation_importance(lgbm_model, X_test, y_test, n_repeats=10, random_state=42)\n",
        "\n",
        "# Visualize permutation importance if needed\n",
        "sorted_idx = perm_importance.importances_mean.argsort()\n",
        "plt.barh(X_test.columns[sorted_idx], perm_importance.importances_mean[sorted_idx])\n",
        "plt.xlabel(\"Permutation Importance\")\n",
        "plt.title(\"Permutation Importance (LightGBM)\")\n",
        "plt.show()\n"
      ]
    },
    {
      "cell_type": "markdown",
      "metadata": {
        "id": "2r4bptSK-eTd"
      },
      "source": [
        "### 6.3.2 Feature Importance from Models"
      ]
    },
    {
      "cell_type": "code",
      "execution_count": null,
      "metadata": {
        "id": "N-M4YUrXWEVb"
      },
      "outputs": [],
      "source": [
        "# Example for CatBoost model if it provides feature importances directly\n",
        "if hasattr(catboost_model, 'feature_importances_'):\n",
        "    catboost_feature_importance = catboost_model.feature_importances_\n",
        "    # Plot or print feature importances as needed\n"
      ]
    },
    {
      "cell_type": "markdown",
      "metadata": {
        "id": "hcATj9bd-fHZ"
      },
      "source": [
        "# Hyperparameter Tuning"
      ]
    },
    {
      "cell_type": "markdown",
      "metadata": {
        "id": "bMjy6Eoo-f6d"
      },
      "source": [
        "## 7.1 Tuning Strategy"
      ]
    },
    {
      "cell_type": "markdown",
      "metadata": {
        "id": "DxylTK1LCKpD"
      },
      "source": [
        "#### a. Random Search"
      ]
    },
    {
      "cell_type": "code",
      "execution_count": null,
      "metadata": {
        "id": "bi_jWdinCOsw"
      },
      "outputs": [],
      "source": [
        "# from sklearn.model_selection import RandomizedSearchCV\n",
        "\n",
        "# # Define the parameter grid for LightGBM\n",
        "# param_grid_lgbm = {\n",
        "#     'num_leaves': [31, 50, 100],\n",
        "#     'learning_rate': [0.01, 0.1, 0.05],\n",
        "#     'n_estimators': [100, 500, 1000]\n",
        "# }\n",
        "\n",
        "# # Random Search CV for LightGBM\n",
        "# lgbm_random = RandomizedSearchCV(LGBMRegressor(), param_grid_lgbm, n_iter=10, scoring='neg_mean_squared_error', cv=5, random_state=42)\n",
        "# lgbm_random.fit(X_train, y_train)\n",
        "\n",
        "# print(f\"Best parameters for LightGBM: {lgbm_random.best_params_}\")\n",
        "# print(f\"Best score for LightGBM: {np.sqrt(-lgbm_random.best_score_):.4f}\")\n"
      ]
    },
    {
      "cell_type": "markdown",
      "metadata": {
        "id": "EQzMhfmACNDh"
      },
      "source": [
        "#### b. Grid Search"
      ]
    },
    {
      "cell_type": "markdown",
      "metadata": {
        "id": "EyGAE4u0-hg7"
      },
      "source": [
        "## 7.2 Using Optuna for Hyperparameter Optimization"
      ]
    },
    {
      "cell_type": "code",
      "execution_count": null,
      "metadata": {
        "colab": {
          "base_uri": "https://localhost:8080/"
        },
        "id": "huMEEjJGGU3M",
        "outputId": "b56b051a-6230-4e3d-ab91-8f33112223bc"
      },
      "outputs": [
        {
          "name": "stdout",
          "output_type": "stream",
          "text": [
            "Requirement already satisfied: optuna in /usr/local/lib/python3.10/dist-packages (3.6.1)\n",
            "Requirement already satisfied: alembic>=1.5.0 in /usr/local/lib/python3.10/dist-packages (from optuna) (1.13.1)\n",
            "Requirement already satisfied: colorlog in /usr/local/lib/python3.10/dist-packages (from optuna) (6.8.2)\n",
            "Requirement already satisfied: numpy in /usr/local/lib/python3.10/dist-packages (from optuna) (1.25.2)\n",
            "Requirement already satisfied: packaging>=20.0 in /usr/local/lib/python3.10/dist-packages (from optuna) (24.1)\n",
            "Requirement already satisfied: sqlalchemy>=1.3.0 in /usr/local/lib/python3.10/dist-packages (from optuna) (2.0.30)\n",
            "Requirement already satisfied: tqdm in /usr/local/lib/python3.10/dist-packages (from optuna) (4.66.4)\n",
            "Requirement already satisfied: PyYAML in /usr/local/lib/python3.10/dist-packages (from optuna) (6.0.1)\n",
            "Requirement already satisfied: Mako in /usr/local/lib/python3.10/dist-packages (from alembic>=1.5.0->optuna) (1.3.5)\n",
            "Requirement already satisfied: typing-extensions>=4 in /usr/local/lib/python3.10/dist-packages (from alembic>=1.5.0->optuna) (4.12.2)\n",
            "Requirement already satisfied: greenlet!=0.4.17 in /usr/local/lib/python3.10/dist-packages (from sqlalchemy>=1.3.0->optuna) (3.0.3)\n",
            "Requirement already satisfied: MarkupSafe>=0.9.2 in /usr/local/lib/python3.10/dist-packages (from Mako->alembic>=1.5.0->optuna) (2.1.5)\n"
          ]
        }
      ],
      "source": [
        "!pip install optuna"
      ]
    },
    {
      "cell_type": "code",
      "execution_count": null,
      "metadata": {
        "colab": {
          "base_uri": "https://localhost:8080/"
        },
        "id": "3T6K-uB6GEul",
        "outputId": "cacf1b6b-9a30-4f5b-d201-62cfaa9c1852"
      },
      "outputs": [
        {
          "name": "stderr",
          "output_type": "stream",
          "text": [
            "[I 2024-06-23 07:36:45,393] A new study created in memory with name: no-name-f5bfa4bf-b364-4995-8c41-c9addf42c8ee\n",
            "[I 2024-06-23 07:37:24,676] Trial 0 finished with value: 0.043384652253075535 and parameters: {'iterations': 179, 'depth': 3, 'learning_rate': 0.013751671605726087, 'random_strength': 0.07953561297363732, 'bagging_temperature': 0.04010667975723026, 'border_count': 22, 'l2_leaf_reg': 1.3273242418101185}. Best is trial 0 with value: 0.043384652253075535.\n",
            "[I 2024-06-23 07:37:55,765] Trial 1 finished with value: 0.04427633401030366 and parameters: {'iterations': 208, 'depth': 3, 'learning_rate': 0.010176535110305383, 'random_strength': 1.7137659389200568, 'bagging_temperature': 0.4143455881326938, 'border_count': 46, 'l2_leaf_reg': 0.8842777938809211}. Best is trial 0 with value: 0.043384652253075535.\n",
            "[I 2024-06-23 07:38:18,680] Trial 2 finished with value: 0.04255358956228863 and parameters: {'iterations': 189, 'depth': 3, 'learning_rate': 0.01488744457073415, 'random_strength': 1.8907817638409918, 'bagging_temperature': 0.22883736657889903, 'border_count': 31, 'l2_leaf_reg': 0.07945565044261356}. Best is trial 2 with value: 0.04255358956228863.\n",
            "[I 2024-06-23 07:38:37,622] Trial 3 finished with value: 0.04422383490549412 and parameters: {'iterations': 121, 'depth': 5, 'learning_rate': 0.010475875943291855, 'random_strength': 1.9385729507029101, 'bagging_temperature': 0.24685182587588034, 'border_count': 53, 'l2_leaf_reg': 1.004608739301487}. Best is trial 2 with value: 0.04255358956228863.\n",
            "[I 2024-06-23 07:39:05,149] Trial 4 finished with value: 0.04581233344518639 and parameters: {'iterations': 195, 'depth': 4, 'learning_rate': 0.0059257803710787435, 'random_strength': 0.42020274254356527, 'bagging_temperature': 0.4695880963611118, 'border_count': 43, 'l2_leaf_reg': 0.0026044164234447467}. Best is trial 2 with value: 0.04255358956228863.\n",
            "[I 2024-06-23 07:39:42,099] Trial 5 finished with value: 0.04794591258348427 and parameters: {'iterations': 203, 'depth': 6, 'learning_rate': 0.002061982201317286, 'random_strength': 0.6114888827389452, 'bagging_temperature': 0.14492835013864475, 'border_count': 45, 'l2_leaf_reg': 0.022750458445409225}. Best is trial 2 with value: 0.04255358956228863.\n",
            "[I 2024-06-23 07:40:31,361] Trial 6 finished with value: 0.04859288432787041 and parameters: {'iterations': 296, 'depth': 5, 'learning_rate': 0.001308050238771636, 'random_strength': 1.4395187215741894, 'bagging_temperature': 0.23143158769250044, 'border_count': 36, 'l2_leaf_reg': 2.528780268488013}. Best is trial 2 with value: 0.04255358956228863.\n",
            "[I 2024-06-23 07:41:16,817] Trial 7 finished with value: 0.04315302649701883 and parameters: {'iterations': 296, 'depth': 5, 'learning_rate': 0.005141834210570239, 'random_strength': 0.21084980261489084, 'bagging_temperature': 0.01150836880121997, 'border_count': 51, 'l2_leaf_reg': 0.19141861048657197}. Best is trial 2 with value: 0.04255358956228863.\n",
            "[I 2024-06-23 07:41:48,932] Trial 8 finished with value: 0.04834294491021323 and parameters: {'iterations': 179, 'depth': 6, 'learning_rate': 0.0020076408502265695, 'random_strength': 0.13810020396568912, 'bagging_temperature': 0.006026508832289557, 'border_count': 48, 'l2_leaf_reg': 0.006615842764176204}. Best is trial 2 with value: 0.04255358956228863.\n",
            "[I 2024-06-23 07:42:21,061] Trial 9 finished with value: 0.0361785690693813 and parameters: {'iterations': 196, 'depth': 6, 'learning_rate': 0.015502292527921659, 'random_strength': 2.1191852306552903, 'bagging_temperature': 0.23130778295096177, 'border_count': 49, 'l2_leaf_reg': 0.0015865007413004711}. Best is trial 9 with value: 0.0361785690693813.\n",
            "[I 2024-06-23 07:42:48,796] Trial 10 finished with value: 0.03565580650696428 and parameters: {'iterations': 253, 'depth': 6, 'learning_rate': 0.04095350680240825, 'random_strength': 2.8145212332103897, 'bagging_temperature': 0.33819482384667054, 'border_count': 1, 'l2_leaf_reg': 0.0015306883742196259}. Best is trial 10 with value: 0.03565580650696428.\n",
            "[I 2024-06-23 07:43:28,254] Trial 11 finished with value: 0.028533900487018257 and parameters: {'iterations': 243, 'depth': 6, 'learning_rate': 0.033799376605579995, 'random_strength': 2.999592226789681, 'bagging_temperature': 0.34473455942757936, 'border_count': 3, 'l2_leaf_reg': 0.0010877927809356243}. Best is trial 11 with value: 0.028533900487018257.\n",
            "[I 2024-06-23 07:44:06,245] Trial 12 finished with value: 0.027074101819525145 and parameters: {'iterations': 249, 'depth': 6, 'learning_rate': 0.048974685157992776, 'random_strength': 2.938848241210846, 'bagging_temperature': 0.3689802067775667, 'border_count': 3, 'l2_leaf_reg': 0.009056970371466348}. Best is trial 12 with value: 0.027074101819525145.\n",
            "[I 2024-06-23 07:44:37,820] Trial 13 finished with value: 0.028441273787174134 and parameters: {'iterations': 245, 'depth': 4, 'learning_rate': 0.04517328423485444, 'random_strength': 2.9719996696088797, 'bagging_temperature': 0.34962516884029593, 'border_count': 4, 'l2_leaf_reg': 0.010159265019522466}. Best is trial 12 with value: 0.027074101819525145.\n",
            "[I 2024-06-23 07:45:11,047] Trial 14 finished with value: 0.03215236099135067 and parameters: {'iterations': 250, 'depth': 4, 'learning_rate': 0.027809491359812366, 'random_strength': 2.5021943871745207, 'bagging_temperature': 0.34786393631944323, 'border_count': 13, 'l2_leaf_reg': 0.012577608782459575}. Best is trial 12 with value: 0.027074101819525145.\n",
            "[I 2024-06-23 07:45:43,777] Trial 15 finished with value: 0.025896880992227932 and parameters: {'iterations': 270, 'depth': 4, 'learning_rate': 0.049130339836095875, 'random_strength': 2.553171078787317, 'bagging_temperature': 0.4935717500092032, 'border_count': 64, 'l2_leaf_reg': 0.031191820622211108}. Best is trial 15 with value: 0.025896880992227932.\n",
            "[I 2024-06-23 07:46:18,015] Trial 16 finished with value: 0.03181247698726991 and parameters: {'iterations': 275, 'depth': 4, 'learning_rate': 0.0261770712242033, 'random_strength': 2.4191020748759597, 'bagging_temperature': 0.46008481896798314, 'border_count': 63, 'l2_leaf_reg': 0.03537047118847941}. Best is trial 15 with value: 0.025896880992227932.\n",
            "[I 2024-06-23 07:46:53,109] Trial 17 finished with value: 0.032488937754002946 and parameters: {'iterations': 229, 'depth': 5, 'learning_rate': 0.023341862145305363, 'random_strength': 1.2087132899493838, 'bagging_temperature': 0.49404980393834524, 'border_count': 23, 'l2_leaf_reg': 0.18245769563399952}. Best is trial 15 with value: 0.025896880992227932.\n",
            "[I 2024-06-23 07:47:31,388] Trial 18 finished with value: 0.023974307458053276 and parameters: {'iterations': 276, 'depth': 5, 'learning_rate': 0.049188511592740757, 'random_strength': 2.5104268946631993, 'bagging_temperature': 0.3991852256526176, 'border_count': 64, 'l2_leaf_reg': 0.051427597600450466}. Best is trial 18 with value: 0.023974307458053276.\n",
            "[I 2024-06-23 07:47:53,677] Trial 19 finished with value: 0.04822725260683011 and parameters: {'iterations': 151, 'depth': 4, 'learning_rate': 0.003743910668729347, 'random_strength': 2.482312401727166, 'bagging_temperature': 0.4104788389791877, 'border_count': 64, 'l2_leaf_reg': 0.12625643563754874}. Best is trial 18 with value: 0.023974307458053276.\n",
            "[I 2024-06-23 07:48:32,327] Trial 20 finished with value: 0.03125360159228548 and parameters: {'iterations': 273, 'depth': 5, 'learning_rate': 0.02221849648081317, 'random_strength': 1.0031576735951588, 'bagging_temperature': 0.41577004492457126, 'border_count': 58, 'l2_leaf_reg': 0.30825494303965306}. Best is trial 18 with value: 0.023974307458053276.\n",
            "[I 2024-06-23 07:49:11,562] Trial 21 finished with value: 0.02421091385685582 and parameters: {'iterations': 276, 'depth': 5, 'learning_rate': 0.04761850701110163, 'random_strength': 2.67374879776177, 'bagging_temperature': 0.3081307774529536, 'border_count': 57, 'l2_leaf_reg': 0.029678113037474828}. Best is trial 18 with value: 0.023974307458053276.\n",
            "[I 2024-06-23 07:49:47,964] Trial 22 finished with value: 0.023891729561334393 and parameters: {'iterations': 278, 'depth': 5, 'learning_rate': 0.04945500374753562, 'random_strength': 2.277711880998856, 'bagging_temperature': 0.2808236979046239, 'border_count': 57, 'l2_leaf_reg': 0.038396799400048774}. Best is trial 22 with value: 0.023891729561334393.\n",
            "[I 2024-06-23 07:50:28,230] Trial 23 finished with value: 0.0277068431163198 and parameters: {'iterations': 283, 'depth': 5, 'learning_rate': 0.030760577216597904, 'random_strength': 2.195846646813456, 'bagging_temperature': 0.2913156050867474, 'border_count': 57, 'l2_leaf_reg': 0.05411739611266691}. Best is trial 22 with value: 0.023891729561334393.\n",
            "[I 2024-06-23 07:51:01,239] Trial 24 finished with value: 0.034210121531123565 and parameters: {'iterations': 227, 'depth': 5, 'learning_rate': 0.01979789785817537, 'random_strength': 2.6647304489767536, 'bagging_temperature': 0.1719744669163938, 'border_count': 57, 'l2_leaf_reg': 0.004365051458034502}. Best is trial 22 with value: 0.023891729561334393.\n",
            "[I 2024-06-23 07:51:39,214] Trial 25 finished with value: 0.026588071485350747 and parameters: {'iterations': 266, 'depth': 5, 'learning_rate': 0.0368763427304367, 'random_strength': 2.240973132727378, 'bagging_temperature': 0.2894342170447666, 'border_count': 39, 'l2_leaf_reg': 0.44008432225986927}. Best is trial 22 with value: 0.023891729561334393.\n",
            "[I 2024-06-23 07:52:19,856] Trial 26 finished with value: 0.02638814280463211 and parameters: {'iterations': 299, 'depth': 5, 'learning_rate': 0.03358717708824597, 'random_strength': 1.5930567515498437, 'bagging_temperature': 0.2982481766738865, 'border_count': 55, 'l2_leaf_reg': 0.017645498710694773}. Best is trial 22 with value: 0.023891729561334393.\n",
            "[I 2024-06-23 07:52:54,859] Trial 27 finished with value: 0.041495038827026105 and parameters: {'iterations': 228, 'depth': 5, 'learning_rate': 0.008568827871600994, 'random_strength': 2.6850691937609135, 'bagging_temperature': 0.1400513622248371, 'border_count': 58, 'l2_leaf_reg': 0.07272871861444986}. Best is trial 22 with value: 0.023891729561334393.\n",
            "[I 2024-06-23 07:53:36,394] Trial 28 finished with value: 0.033667782613661906 and parameters: {'iterations': 282, 'depth': 5, 'learning_rate': 0.01686882533115393, 'random_strength': 2.272139036845492, 'bagging_temperature': 0.18259150105365188, 'border_count': 61, 'l2_leaf_reg': 0.049954736864683075}. Best is trial 22 with value: 0.023891729561334393.\n",
            "[I 2024-06-23 07:54:10,014] Trial 29 finished with value: 0.03469811184414593 and parameters: {'iterations': 264, 'depth': 4, 'learning_rate': 0.020331864147074743, 'random_strength': 1.9726079525849012, 'bagging_temperature': 0.3852829756280131, 'border_count': 25, 'l2_leaf_reg': 0.10954211108808849}. Best is trial 22 with value: 0.023891729561334393.\n"
          ]
        },
        {
          "name": "stdout",
          "output_type": "stream",
          "text": [
            "Best hyperparameters: {'iterations': 278, 'depth': 5, 'learning_rate': 0.04945500374753562, 'random_strength': 2.277711880998856, 'bagging_temperature': 0.2808236979046239, 'border_count': 57, 'l2_leaf_reg': 0.038396799400048774}\n"
          ]
        }
      ],
      "source": [
        "import pandas as pd\n",
        "import numpy as np\n",
        "from catboost import CatBoostRegressor\n",
        "from sklearn.model_selection import train_test_split, KFold\n",
        "from sklearn.metrics import mean_squared_error\n",
        "import optuna\n",
        "\n",
        "# Define the objective function for Optuna\n",
        "def objective(trial):\n",
        "    param = {\n",
        "        \"iterations\": trial.suggest_int(\"iterations\", 100, 300),  # Reduce max iterations\n",
        "        \"depth\": trial.suggest_int(\"depth\", 3, 6),  # Reduce range for depth\n",
        "        \"learning_rate\": trial.suggest_float(\"learning_rate\", 1e-3, 5e-2, log=True),\n",
        "        \"random_strength\": trial.suggest_float(\"random_strength\", 0, 3),  # Reduce range for random_strength\n",
        "        \"bagging_temperature\": trial.suggest_float(\"bagging_temperature\", 0, 0.5),\n",
        "        \"border_count\": trial.suggest_int(\"border_count\", 1, 64),  # Reduce max border_count\n",
        "        \"l2_leaf_reg\": trial.suggest_float(\"l2_leaf_reg\", 1e-3, 5, log=True)\n",
        "    }\n",
        "\n",
        "    # Split the training data further into training and validation sets\n",
        "    X_train_split, X_val_split, y_train_split, y_val_split = train_test_split(X_train, y_train, test_size=0.2, random_state=42)\n",
        "\n",
        "    model = CatBoostRegressor(**param, silent=True)\n",
        "    model.fit(X_train_split, y_train_split)\n",
        "\n",
        "    preds = model.predict(X_val_split)\n",
        "    rmse = np.sqrt(mean_squared_error(y_val_split, preds))\n",
        "\n",
        "    return rmse\n",
        "\n",
        "# Create a study object and optimize the objective function\n",
        "study = optuna.create_study(direction=\"minimize\")\n",
        "study.optimize(objective, n_trials=30)  # Further reduce number of trials\n",
        "\n",
        "# Print the best hyperparameters\n",
        "print(f\"Best hyperparameters: {study.best_params}\")"
      ]
    },
    {
      "cell_type": "code",
      "execution_count": null,
      "metadata": {
        "colab": {
          "base_uri": "https://localhost:8080/"
        },
        "id": "AC7SxRfRGM1Z",
        "outputId": "7b36b9b5-a592-486d-8f2d-adc8e4a8a4ee"
      },
      "outputs": [
        {
          "name": "stdout",
          "output_type": "stream",
          "text": [
            "Tuned CatBoost RMSE: 0.0238\n"
          ]
        }
      ],
      "source": [
        "# Train the final model using the best hyperparameters\n",
        "best_params = study.best_params\n",
        "catboost_best = CatBoostRegressor(**best_params, silent=True)\n",
        "catboost_best.fit(X_train, y_train)\n",
        "\n",
        "# Predict on test set\n",
        "catboost_predictions = catboost_best.predict(X_test)\n",
        "catboost_rmse = np.sqrt(mean_squared_error(y_test, catboost_predictions))\n",
        "print(f\"Tuned CatBoost RMSE: {catboost_rmse:.4f}\")"
      ]
    },
    {
      "cell_type": "markdown",
      "metadata": {
        "id": "yGk5qQsu-iks"
      },
      "source": [
        "## 7.3 Best Practices for Tuning GBM Models"
      ]
    },
    {
      "cell_type": "code",
      "execution_count": null,
      "metadata": {
        "colab": {
          "base_uri": "https://localhost:8080/"
        },
        "id": "kf4oS33YGbDt",
        "outputId": "98e1fb1e-4d23-497b-eee5-6f4fb34b1f4a"
      },
      "outputs": [
        {
          "name": "stdout",
          "output_type": "stream",
          "text": [
            "Default CatBoost RMSE: 0.0200\n"
          ]
        }
      ],
      "source": [
        "# Best Practices for Tuning GBM Models\n",
        "\n",
        "# 1. Start with default parameters\n",
        "default_model = CatBoostRegressor(silent=True)\n",
        "default_model.fit(X_train, y_train)\n",
        "default_predictions = default_model.predict(X_test)\n",
        "default_rmse = np.sqrt(mean_squared_error(y_test, default_predictions))\n",
        "print(f\"Default CatBoost RMSE: {default_rmse:.4f}\")"
      ]
    },
    {
      "cell_type": "code",
      "execution_count": null,
      "metadata": {
        "colab": {
          "base_uri": "https://localhost:8080/"
        },
        "id": "rLUi1JtpGc4e",
        "outputId": "ab6a26aa-4eca-4c1a-b3cc-c06d99e249fa"
      },
      "outputs": [
        {
          "name": "stderr",
          "output_type": "stream",
          "text": [
            "[I 2024-06-23 07:58:04,772] A new study created in memory with name: no-name-d44ae070-a140-4eca-8774-55608c7087c2\n",
            "[I 2024-06-23 07:58:47,564] Trial 0 finished with value: 0.04196082639605488 and parameters: {'iterations': 207, 'learning_rate': 0.007315384942105889}. Best is trial 0 with value: 0.04196082639605488.\n",
            "[I 2024-06-23 07:59:49,565] Trial 1 finished with value: 0.022285156295943628 and parameters: {'iterations': 300, 'learning_rate': 0.049899903097975394}. Best is trial 1 with value: 0.022285156295943628.\n",
            "[I 2024-06-23 08:00:31,581] Trial 2 finished with value: 0.047491428358467445 and parameters: {'iterations': 230, 'learning_rate': 0.002122258818334948}. Best is trial 1 with value: 0.022285156295943628.\n",
            "[I 2024-06-23 08:01:01,196] Trial 3 finished with value: 0.0466693847054181 and parameters: {'iterations': 165, 'learning_rate': 0.0037490117747372475}. Best is trial 1 with value: 0.022285156295943628.\n",
            "[I 2024-06-23 08:01:48,839] Trial 4 finished with value: 0.033968551618777994 and parameters: {'iterations': 294, 'learning_rate': 0.01300894149349202}. Best is trial 1 with value: 0.022285156295943628.\n",
            "[I 2024-06-23 08:02:36,403] Trial 5 finished with value: 0.04446637856169004 and parameters: {'iterations': 266, 'learning_rate': 0.0037840604340965522}. Best is trial 1 with value: 0.022285156295943628.\n",
            "[I 2024-06-23 08:03:01,269] Trial 6 finished with value: 0.047522014904972765 and parameters: {'iterations': 127, 'learning_rate': 0.0038028290096663807}. Best is trial 1 with value: 0.022285156295943628.\n",
            "[I 2024-06-23 08:03:45,630] Trial 7 finished with value: 0.04593630148786788 and parameters: {'iterations': 238, 'learning_rate': 0.00311839257626815}. Best is trial 1 with value: 0.022285156295943628.\n",
            "[I 2024-06-23 08:04:35,677] Trial 8 finished with value: 0.046557428680197084 and parameters: {'iterations': 277, 'learning_rate': 0.0023012689755854284}. Best is trial 1 with value: 0.022285156295943628.\n",
            "[I 2024-06-23 08:04:57,275] Trial 9 finished with value: 0.03381725478906253 and parameters: {'iterations': 125, 'learning_rate': 0.030819341310202083}. Best is trial 1 with value: 0.022285156295943628.\n",
            "[I 2024-06-23 08:05:25,458] Trial 10 finished with value: 0.026077819479896278 and parameters: {'iterations': 174, 'learning_rate': 0.04920229227697905}. Best is trial 1 with value: 0.022285156295943628.\n",
            "[I 2024-06-23 08:05:52,295] Trial 11 finished with value: 0.026326726804549866 and parameters: {'iterations': 172, 'learning_rate': 0.04836829091725373}. Best is trial 1 with value: 0.022285156295943628.\n",
            "[I 2024-06-23 08:06:21,061] Trial 12 finished with value: 0.03468647601508269 and parameters: {'iterations': 170, 'learning_rate': 0.02081845870957278}. Best is trial 1 with value: 0.022285156295943628.\n",
            "[I 2024-06-23 08:06:52,823] Trial 13 finished with value: 0.024652978744730474 and parameters: {'iterations': 207, 'learning_rate': 0.04941401020493696}. Best is trial 1 with value: 0.022285156295943628.\n",
            "[I 2024-06-23 08:07:37,879] Trial 14 finished with value: 0.049125052487358524 and parameters: {'iterations': 244, 'learning_rate': 0.0010229347728573012}. Best is trial 1 with value: 0.022285156295943628.\n",
            "[I 2024-06-23 08:08:27,005] Trial 15 finished with value: 0.030408972525835704 and parameters: {'iterations': 300, 'learning_rate': 0.01830241855307102}. Best is trial 1 with value: 0.022285156295943628.\n",
            "[I 2024-06-23 08:08:45,227] Trial 16 finished with value: 0.04452905885991929 and parameters: {'iterations': 102, 'learning_rate': 0.009722644551673971}. Best is trial 1 with value: 0.022285156295943628.\n",
            "[I 2024-06-23 08:09:17,184] Trial 17 finished with value: 0.02947610136410611 and parameters: {'iterations': 204, 'learning_rate': 0.02944870368650558}. Best is trial 1 with value: 0.022285156295943628.\n",
            "[I 2024-06-23 08:09:57,881] Trial 18 finished with value: 0.025751969844614093 and parameters: {'iterations': 263, 'learning_rate': 0.0340871317064442}. Best is trial 1 with value: 0.022285156295943628.\n",
            "[I 2024-06-23 08:10:33,017] Trial 19 finished with value: 0.03494411591557976 and parameters: {'iterations': 220, 'learning_rate': 0.015692901825595438}. Best is trial 1 with value: 0.022285156295943628.\n"
          ]
        },
        {
          "name": "stdout",
          "output_type": "stream",
          "text": [
            "Best params after step 1: {'iterations': 300, 'learning_rate': 0.049899903097975394}\n"
          ]
        }
      ],
      "source": [
        "# 2. Tune parameters iteratively\n",
        "# Step 1: Tune learning_rate and iterations\n",
        "def tune_step1(trial):\n",
        "    param = {\n",
        "        \"iterations\": trial.suggest_int(\"iterations\", 100, 300),  # Reduce max iterations\n",
        "        \"learning_rate\": trial.suggest_float(\"learning_rate\", 1e-3, 5e-2, log=True),\n",
        "    }\n",
        "    X_train_split, X_val_split, y_train_split, y_val_split = train_test_split(X_train, y_train, test_size=0.2, random_state=42)\n",
        "    model = CatBoostRegressor(**param, silent=True)\n",
        "    model.fit(X_train_split, y_train_split)\n",
        "    preds = model.predict(X_val_split)\n",
        "    rmse = np.sqrt(mean_squared_error(y_val_split, preds))\n",
        "    return rmse\n",
        "\n",
        "study_step1 = optuna.create_study(direction=\"minimize\")\n",
        "study_step1.optimize(tune_step1, n_trials=20)  # Further reduce number of trials\n",
        "best_params_step1 = study_step1.best_params\n",
        "print(f\"Best params after step 1: {best_params_step1}\")"
      ]
    },
    {
      "cell_type": "code",
      "execution_count": null,
      "metadata": {
        "colab": {
          "base_uri": "https://localhost:8080/"
        },
        "id": "fzp-IXjiGeeJ",
        "outputId": "c479f2f2-5777-40f2-dc15-04a97009747e"
      },
      "outputs": [
        {
          "name": "stderr",
          "output_type": "stream",
          "text": [
            "[I 2024-06-23 08:10:33,035] A new study created in memory with name: no-name-6c9b0d78-e91a-4de1-b4c6-30c943589a5c\n",
            "[I 2024-06-23 08:11:16,852] Trial 0 finished with value: 0.022281656178894084 and parameters: {'depth': 6, 'l2_leaf_reg': 1.1760049025958688}. Best is trial 0 with value: 0.022281656178894084.\n",
            "[I 2024-06-23 08:11:54,416] Trial 1 finished with value: 0.02490865253520399 and parameters: {'depth': 4, 'l2_leaf_reg': 0.0016680500981326259}. Best is trial 0 with value: 0.022281656178894084.\n",
            "[I 2024-06-23 08:12:29,633] Trial 2 finished with value: 0.02490865225864325 and parameters: {'depth': 4, 'l2_leaf_reg': 0.0011979880370732846}. Best is trial 0 with value: 0.022281656178894084.\n",
            "[I 2024-06-23 08:13:01,522] Trial 3 finished with value: 0.027413637178002218 and parameters: {'depth': 3, 'l2_leaf_reg': 0.0075566433225669445}. Best is trial 0 with value: 0.022281656178894084.\n",
            "[I 2024-06-23 08:13:45,508] Trial 4 finished with value: 0.02228235388414377 and parameters: {'depth': 6, 'l2_leaf_reg': 1.502159378671287}. Best is trial 0 with value: 0.022281656178894084.\n",
            "[I 2024-06-23 08:14:22,993] Trial 5 finished with value: 0.02490919179951571 and parameters: {'depth': 4, 'l2_leaf_reg': 4.7030303185270945}. Best is trial 0 with value: 0.022281656178894084.\n",
            "[I 2024-06-23 08:15:02,076] Trial 6 finished with value: 0.023323360514720625 and parameters: {'depth': 5, 'l2_leaf_reg': 0.0424446452963101}. Best is trial 0 with value: 0.022281656178894084.\n",
            "[I 2024-06-23 08:15:35,604] Trial 7 finished with value: 0.027413635996246466 and parameters: {'depth': 3, 'l2_leaf_reg': 0.003176599456898892}. Best is trial 0 with value: 0.022281656178894084.\n",
            "[I 2024-06-23 08:16:14,650] Trial 8 finished with value: 0.023321662832795055 and parameters: {'depth': 5, 'l2_leaf_reg': 0.4614965616894354}. Best is trial 0 with value: 0.022281656178894084.\n",
            "[I 2024-06-23 08:16:58,604] Trial 9 finished with value: 0.02228214630309987 and parameters: {'depth': 6, 'l2_leaf_reg': 0.933068025485549}. Best is trial 0 with value: 0.022281656178894084.\n",
            "[I 2024-06-23 08:17:42,218] Trial 10 finished with value: 0.022278515276648057 and parameters: {'depth': 6, 'l2_leaf_reg': 0.13583998778003423}. Best is trial 10 with value: 0.022278515276648057.\n",
            "[I 2024-06-23 08:18:26,232] Trial 11 finished with value: 0.022278498157236933 and parameters: {'depth': 6, 'l2_leaf_reg': 0.12792040221770054}. Best is trial 11 with value: 0.022278498157236933.\n",
            "[I 2024-06-23 08:19:06,914] Trial 12 finished with value: 0.023322349922791523 and parameters: {'depth': 5, 'l2_leaf_reg': 0.08807827554488831}. Best is trial 11 with value: 0.022278498157236933.\n",
            "[I 2024-06-23 08:19:50,584] Trial 13 finished with value: 0.022279316462551577 and parameters: {'depth': 6, 'l2_leaf_reg': 0.09329810338982546}. Best is trial 11 with value: 0.022278498157236933.\n",
            "[I 2024-06-23 08:20:34,527] Trial 14 finished with value: 0.022282482435159068 and parameters: {'depth': 6, 'l2_leaf_reg': 0.020356061058355697}. Best is trial 11 with value: 0.022278498157236933.\n",
            "[I 2024-06-23 08:21:14,814] Trial 15 finished with value: 0.023321677432146328 and parameters: {'depth': 5, 'l2_leaf_reg': 0.42147560109000937}. Best is trial 11 with value: 0.022278498157236933.\n",
            "[I 2024-06-23 08:21:58,820] Trial 16 finished with value: 0.02227923046566464 and parameters: {'depth': 6, 'l2_leaf_reg': 0.18723522323107675}. Best is trial 11 with value: 0.022278498157236933.\n",
            "[I 2024-06-23 08:22:38,254] Trial 17 finished with value: 0.0233229542232007 and parameters: {'depth': 5, 'l2_leaf_reg': 0.02165403277028919}. Best is trial 11 with value: 0.022278498157236933.\n",
            "[I 2024-06-23 08:23:21,945] Trial 18 finished with value: 0.022280117718815193 and parameters: {'depth': 6, 'l2_leaf_reg': 0.2079827564535059}. Best is trial 11 with value: 0.022278498157236933.\n",
            "[I 2024-06-23 08:24:02,476] Trial 19 finished with value: 0.023322442332619094 and parameters: {'depth': 5, 'l2_leaf_reg': 0.040302418791453055}. Best is trial 11 with value: 0.022278498157236933.\n"
          ]
        },
        {
          "name": "stdout",
          "output_type": "stream",
          "text": [
            "Best params after step 2: {'depth': 6, 'l2_leaf_reg': 0.12792040221770054}\n"
          ]
        }
      ],
      "source": [
        "# Step 2: Tune depth and l2_leaf_reg\n",
        "def tune_step2(trial):\n",
        "    param = {\n",
        "        \"iterations\": best_params_step1['iterations'],\n",
        "        \"learning_rate\": best_params_step1['learning_rate'],\n",
        "        \"depth\": trial.suggest_int(\"depth\", 3, 6),  # Reduce range for depth\n",
        "        \"l2_leaf_reg\": trial.suggest_float(\"l2_leaf_reg\", 1e-3, 5, log=True),\n",
        "    }\n",
        "    X_train_split, X_val_split, y_train_split, y_val_split = train_test_split(X_train, y_train, test_size=0.2, random_state=42)\n",
        "    model = CatBoostRegressor(**param, silent=True)\n",
        "    model.fit(X_train_split, y_train_split)\n",
        "    preds = model.predict(X_val_split)\n",
        "    rmse = np.sqrt(mean_squared_error(y_val_split, preds))\n",
        "    return rmse\n",
        "\n",
        "study_step2 = optuna.create_study(direction=\"minimize\")\n",
        "study_step2.optimize(tune_step2, n_trials=20)  # Further reduce number of trials\n",
        "best_params_step2 = study_step2.best_params\n",
        "print(f\"Best params after step 2: {best_params_step2}\")"
      ]
    },
    {
      "cell_type": "code",
      "execution_count": null,
      "metadata": {
        "colab": {
          "base_uri": "https://localhost:8080/"
        },
        "id": "a_60K-XZGf5n",
        "outputId": "f00d7b32-90b0-468b-f8e0-78672e02740b"
      },
      "outputs": [
        {
          "name": "stdout",
          "output_type": "stream",
          "text": [
            "CatBoost with Early Stopping RMSE: 0.0203\n"
          ]
        }
      ],
      "source": [
        "# 3. Use early stopping\n",
        "model_with_early_stopping = CatBoostRegressor(\n",
        "    **best_params_step2,\n",
        "    silent=True,\n",
        "    early_stopping_rounds=50\n",
        ")\n",
        "model_with_early_stopping.fit(X_train, y_train, eval_set=(X_test, y_test))\n",
        "early_stopping_predictions = model_with_early_stopping.predict(X_test)\n",
        "early_stopping_rmse = np.sqrt(mean_squared_error(y_test, early_stopping_predictions))\n",
        "print(f\"CatBoost with Early Stopping RMSE: {early_stopping_rmse:.4f}\")"
      ]
    },
    {
      "cell_type": "code",
      "execution_count": null,
      "metadata": {
        "colab": {
          "base_uri": "https://localhost:8080/"
        },
        "id": "_wIrCXMgGhBp",
        "outputId": "920b10e1-209e-4978-8011-3c7f74b87344"
      },
      "outputs": [
        {
          "name": "stdout",
          "output_type": "stream",
          "text": [
            "Cross-Validation RMSE: 0.0204 +/- 0.0000\n"
          ]
        }
      ],
      "source": [
        "# 4. Cross-validation for accurate performance measurement\n",
        "kf = KFold(n_splits=3, shuffle=True, random_state=42)  # Reduce number of folds\n",
        "cv_rmse_scores = []\n",
        "\n",
        "for train_idx, val_idx in kf.split(X_train):\n",
        "    X_train_cv, X_val_cv = X_train.iloc[train_idx], X_train.iloc[val_idx]\n",
        "    y_train_cv, y_val_cv = y_train.iloc[train_idx], y_train.iloc[val_idx]\n",
        "\n",
        "    model_cv = CatBoostRegressor(**best_params_step2, silent=True)\n",
        "    model_cv.fit(X_train_cv, y_train_cv)\n",
        "\n",
        "    preds_cv = model_cv.predict(X_val_cv)\n",
        "    rmse_cv = np.sqrt(mean_squared_error(y_val_cv, preds_cv))\n",
        "    cv_rmse_scores.append(rmse_cv)\n",
        "\n",
        "print(f\"Cross-Validation RMSE: {np.mean(cv_rmse_scores):.4f} +/- {np.std(cv_rmse_scores):.4f}\")"
      ]
    },
    {
      "cell_type": "code",
      "execution_count": null,
      "metadata": {
        "colab": {
          "base_uri": "https://localhost:8080/"
        },
        "id": "nThkFjRfGjND",
        "outputId": "f86f8e6d-9801-4b5d-f32e-ecc7942a9719"
      },
      "outputs": [
        {
          "name": "stdout",
          "output_type": "stream",
          "text": [
            "CatBoost with Small LR RMSE: 0.0313\n"
          ]
        }
      ],
      "source": [
        "# 5. Small learning rate with more estimators\n",
        "small_lr_model = CatBoostRegressor(\n",
        "    iterations=500,  # Further reduce iterations\n",
        "    learning_rate=0.01,\n",
        "    depth=best_params_step2['depth'],\n",
        "    l2_leaf_reg=best_params_step2['l2_leaf_reg'],\n",
        "    silent=True\n",
        ")\n",
        "small_lr_model.fit(X_train, y_train)\n",
        "small_lr_predictions = small_lr_model.predict(X_test)\n",
        "small_lr_rmse = np.sqrt(mean_squared_error(y_test, small_lr_predictions))\n",
        "print(f\"CatBoost with Small LR RMSE: {small_lr_rmse:.4f}\")"
      ]
    },
    {
      "cell_type": "markdown",
      "metadata": {
        "id": "HCUUjvHO-jf2"
      },
      "source": [
        "# Submission"
      ]
    },
    {
      "cell_type": "markdown",
      "metadata": {
        "id": "w0-JpFdS-kYG"
      },
      "source": [
        "## 8.1 Generating Predictions for Test Set"
      ]
    },
    {
      "cell_type": "code",
      "execution_count": null,
      "metadata": {
        "colab": {
          "base_uri": "https://localhost:8080/"
        },
        "id": "8EjMsRPaZjc5",
        "outputId": "1a8e5f19-4f3c-461b-b0bb-ea641e138804"
      },
      "outputs": [
        {
          "name": "stdout",
          "output_type": "stream",
          "text": [
            "Sample predictions: [0.57423076 0.45660995 0.4575527  0.46436323 0.46576368 0.50449562\n",
            " 0.53602809 0.52731372 0.47001386 0.57191297]\n"
          ]
        }
      ],
      "source": [
        "predictions = default_model.predict(df_test)\n",
        "print(\"Sample predictions:\", predictions[:10])"
      ]
    },
    {
      "cell_type": "markdown",
      "metadata": {
        "id": "iTCAAEwO-lHh"
      },
      "source": [
        "## 8.2 Creating Submission File"
      ]
    },
    {
      "cell_type": "code",
      "execution_count": null,
      "metadata": {
        "colab": {
          "base_uri": "https://localhost:8080/"
        },
        "id": "v2eBID5EhfbI",
        "outputId": "4ea78500-c9c2-45ac-e8f7-73ecef73835b"
      },
      "outputs": [
        {
          "name": "stdout",
          "output_type": "stream",
          "text": [
            "Submission DataFrame structure:\n",
            "        id  FloodProbability\n",
            "0  1117957          0.574231\n",
            "1  1117958          0.456610\n",
            "2  1117959          0.457553\n",
            "3  1117960          0.464363\n",
            "4  1117961          0.465764\n"
          ]
        }
      ],
      "source": [
        "# Create a DataFrame for submission\n",
        "submission_df = pd.DataFrame({\n",
        "    'id': df_test['id'],\n",
        "    'FloodProbability': predictions\n",
        "})\n",
        "\n",
        "print(\"Submission DataFrame structure:\")\n",
        "print(submission_df.head())"
      ]
    },
    {
      "cell_type": "code",
      "execution_count": null,
      "metadata": {
        "colab": {
          "base_uri": "https://localhost:8080/"
        },
        "id": "YSdkw0RCi2jQ",
        "outputId": "567f7296-2bee-4b30-f164-c1ceb786f024"
      },
      "outputs": [
        {
          "name": "stdout",
          "output_type": "stream",
          "text": [
            "Submission file created successfully.\n"
          ]
        }
      ],
      "source": [
        "# Save the submission DataFrame to a CSV file\n",
        "submission_df.to_csv('submission.csv', index=False)\n",
        "print(\"Submission file created successfully.\")"
      ]
    },
    {
      "cell_type": "markdown",
      "metadata": {
        "id": "B8xku-ym-lxj"
      },
      "source": [
        "## 8.3 Final Checks and Validation"
      ]
    },
    {
      "cell_type": "code",
      "execution_count": null,
      "metadata": {
        "colab": {
          "base_uri": "https://localhost:8080/"
        },
        "id": "Tmpj1wGOjNZK",
        "outputId": "2d3d88a8-8bff-4c1c-f9b4-8576bb0bb45c"
      },
      "outputs": [
        {
          "name": "stdout",
          "output_type": "stream",
          "text": [
            "Submission file shape: (745305, 2)\n",
            "Submission is missing required columns. Please check.\n",
            "No missing predictions in the submission.\n",
            "Summary statistics of predictions:\n",
            "count    745305.000000\n",
            "mean          0.504444\n",
            "std           0.046833\n",
            "min           0.314752\n",
            "25%           0.474036\n",
            "50%           0.499339\n",
            "75%           0.535017\n",
            "max           0.765212\n",
            "Name: FloodProbability, dtype: float64\n",
            "Final checks and validation completed.\n"
          ]
        }
      ],
      "source": [
        "# Perform final checks and validation if required by the competition or task\n",
        "\n",
        "# Example: Check the shape of the submission file\n",
        "print(\"Submission file shape:\", submission_df.shape)\n",
        "\n",
        "# Example: Ensure all required columns are present\n",
        "expected_columns = ['ID', 'Prediction']\n",
        "if all(col in submission_df.columns for col in expected_columns):\n",
        "    print(\"All required columns are present in the submission.\")\n",
        "else:\n",
        "    print(\"Submission is missing required columns. Please check.\")\n",
        "\n",
        "# Validate the submission format or structure as per competition guidelines\n",
        "# This might include checking for the correct number of rows, IDs, or other specific requirements\n",
        "\n",
        "# Check for any missing predictions or NaN values\n",
        "if submission_df['FloodProbability'].isnull().sum() == 0:\n",
        "    print(\"No missing predictions in the submission.\")\n",
        "else:\n",
        "    print(\"There are missing predictions. Please review.\")\n",
        "\n",
        "# Check the distribution or summary statistics of predictions if needed\n",
        "print(\"Summary statistics of predictions:\")\n",
        "print(submission_df['FloodProbability'].describe())\n",
        "\n",
        "# Validate against a sample submission if provided by the competition\n",
        "\n",
        "# End of final checks and validation\n",
        "print(\"Final checks and validation completed.\")\n"
      ]
    }
  ],
  "metadata": {
    "colab": {
      "provenance": [],
      "toc_visible": true
    },
    "kernelspec": {
      "display_name": "Python 3",
      "name": "python3"
    },
    "language_info": {
      "name": "python"
    }
  },
  "nbformat": 4,
  "nbformat_minor": 0
}
